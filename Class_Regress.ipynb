{
  "nbformat": 4,
  "nbformat_minor": 0,
  "metadata": {
    "colab": {
      "provenance": [],
      "authorship_tag": "ABX9TyPW85CLpdTEG6PwKAH4DR0N",
      "include_colab_link": true
    },
    "kernelspec": {
      "name": "python3",
      "display_name": "Python 3"
    },
    "language_info": {
      "name": "python"
    }
  },
  "cells": [
    {
      "cell_type": "markdown",
      "metadata": {
        "id": "view-in-github",
        "colab_type": "text"
      },
      "source": [
        "<a href=\"https://colab.research.google.com/github/Bohdan-at-Kulinich/Machine-Learning/blob/main/Class_Regress.ipynb\" target=\"_parent\"><img src=\"https://colab.research.google.com/assets/colab-badge.svg\" alt=\"Open In Colab\"/></a>"
      ]
    },
    {
      "cell_type": "code",
      "execution_count": 1,
      "metadata": {
        "id": "21R32fXyL17-",
        "outputId": "d2113708-21ea-4b16-d0e0-2766314b88f9",
        "colab": {
          "base_uri": "https://localhost:8080/"
        }
      },
      "outputs": [
        {
          "output_type": "stream",
          "name": "stdout",
          "text": [
            "Downloading data from https://storage.googleapis.com/tensorflow/tf-keras-datasets/imdb.npz\n",
            "17465344/17464789 [==============================] - 0s 0us/step\n",
            "17473536/17464789 [==============================] - 0s 0us/step\n"
          ]
        }
      ],
      "source": [
        "# Loading the imdb dataset  \n",
        "\n",
        " # keep only the top 10,000 most frequently occuring words in the training data\n",
        " # rare words are discarded to work with the data of manageable size\n",
        " # the whole ds contains 85,585 unique words, some occuring in a single sample\n",
        " # which can't be meaninfully used in classification\n",
        "\n",
        "from tensorflow.keras.datasets import imdb\n",
        "(train_data, train_labels), (test_data, test_labels) = imdb.load_data(num_words=10000) \n"
      ]
    },
    {
      "cell_type": "code",
      "source": [
        " # train_data and test_data are lists of reviews\n",
        " # each review is a list of word indices\n",
        " # train_labes and test_labels are lists of 0 (negative) and 1 (positive)\n",
        "\n",
        "train_data[0] \n",
        "train_labels[0] \n"
      ],
      "metadata": {
        "id": "ObCDx_fhPPYl",
        "colab": {
          "base_uri": "https://localhost:8080/"
        },
        "outputId": "b9d4e3b3-d2e5-429e-d4ea-b5fc71f840a7"
      },
      "execution_count": 2,
      "outputs": [
        {
          "output_type": "execute_result",
          "data": {
            "text/plain": [
              "1"
            ]
          },
          "metadata": {},
          "execution_count": 2
        }
      ]
    },
    {
      "cell_type": "code",
      "source": [
        "# the max value of the word index:\n",
        "# find the max val for each seq and then extract the max from the final list\n",
        "\n",
        "\n",
        "max([max(sequence) for sequence in train_data]) "
      ],
      "metadata": {
        "colab": {
          "base_uri": "https://localhost:8080/"
        },
        "id": "v-isndePPlwH",
        "outputId": "e451cc49-43e5-4dab-d5d5-67975bca4b58"
      },
      "execution_count": null,
      "outputs": [
        {
          "output_type": "execute_result",
          "data": {
            "text/plain": [
              "9999"
            ]
          },
          "metadata": {},
          "execution_count": 3
        }
      ]
    },
    {
      "cell_type": "code",
      "source": [
        "# decoding reviews back to words:\n",
        "\n",
        "# create a dictionary mapping words to an integer index\n",
        "word_index = imdb.get_word_index()\n",
        "\n",
        "# reverse the dictionary, mapping indices to words\n",
        "reverse_word_index = dict (\n",
        "    [(value, key) for (key, value) in word_index.items()])\n",
        "\n",
        "# indices are offset by 3 because 0, 1, 2 are reserved for 'padding', 'start of sequence', and 'unknown'\n",
        "decoded_review = \" \".join(\n",
        "    [reverse_word_index.get(i-3, \"?\") for i in train_data[1]])\n",
        "\n"
      ],
      "metadata": {
        "id": "9hndKorbQRA_",
        "outputId": "6482ffd0-34dc-44cd-b3df-b4ad60faf205",
        "colab": {
          "base_uri": "https://localhost:8080/"
        }
      },
      "execution_count": 3,
      "outputs": [
        {
          "output_type": "stream",
          "name": "stdout",
          "text": [
            "Downloading data from https://storage.googleapis.com/tensorflow/tf-keras-datasets/imdb_word_index.json\n",
            "1646592/1641221 [==============================] - 0s 0us/step\n",
            "1654784/1641221 [==============================] - 0s 0us/step\n"
          ]
        }
      ]
    },
    {
      "cell_type": "code",
      "source": [
        "print(word_index)"
      ],
      "metadata": {
        "id": "WVLxp5BRSWT8"
      },
      "execution_count": null,
      "outputs": []
    },
    {
      "cell_type": "code",
      "source": [
        "print(reverse_word_index)"
      ],
      "metadata": {
        "id": "Rhye8LUPSZxB"
      },
      "execution_count": null,
      "outputs": []
    },
    {
      "cell_type": "code",
      "source": [
        "print(decoded_review)"
      ],
      "metadata": {
        "id": "u9X967khSoWd"
      },
      "execution_count": null,
      "outputs": []
    },
    {
      "cell_type": "markdown",
      "source": [
        "### Preparing the data "
      ],
      "metadata": {
        "id": "Jlq8ejpVUkih"
      }
    },
    {
      "cell_type": "code",
      "source": [
        "# we need to transform the lists of integers into tensors:\n",
        "# 1) pad the lists to make them of the same length and turn them into an integer tensor of shape (samples, max_length)\n",
        "# start the model with the Embedding layer\n",
        "# 2) multi-hot encode the lists to turn them into vectors of 0, 1. \n",
        "# use the Dense layer "
      ],
      "metadata": {
        "id": "2TttK0x3S17P"
      },
      "execution_count": null,
      "outputs": []
    },
    {
      "cell_type": "code",
      "source": [
        "# Encoding the integer sequences via multi-hot encoding \n",
        "\n",
        "import numpy as np \n",
        "def vectroize_sequences(sequences, dimension=10000):\n",
        "  # create an all-zero matrix\n",
        "  results = np.zeros((len(sequences), dimension))\n",
        "  # set specific indices of results matrix to 1\n",
        "  for i, sequence in enumerate(sequences): # label each sequence in the data with an integer\n",
        "    for j in sequence:  # go over each index in the sequence list  \n",
        "      results[i, j] = 1\n",
        "  return results \n",
        "\n",
        "# vectorize the training and test data \n",
        "x_train = vectroize_sequences(train_data)\n",
        "x_test  = vectroize_sequences(test_data) \n",
        "\n",
        "# vectorize the labels\n",
        "y_train = np.asarray(train_labels).astype(\"float32\")\n",
        "y_test = np.asarray(test_labels).astype(\"float32\")"
      ],
      "metadata": {
        "id": "ay1SdHhBV5zS"
      },
      "execution_count": 4,
      "outputs": []
    },
    {
      "cell_type": "markdown",
      "source": [
        "### Building the model "
      ],
      "metadata": {
        "id": "H_OjHeTVZ1vk"
      }
    },
    {
      "cell_type": "code",
      "source": [
        "# the input data is vectors, the labels are scalars (0, 1)\n",
        "# such kind of situations is handled well with a plain stack of densely connected (Dense) layers with relu activation \n",
        "\n",
        "# Architecture: three-layer model \n",
        "# two intermediate layers with 16 units each\n",
        "# third layer to output the scalar predictions \n",
        "\n",
        "from tensorflow import keras \n",
        "from tensorflow.keras import layers \n",
        "\n",
        "# each Dense layer with a relu activation implements the chain of tensor operations:\n",
        "# output = relu(dot(input, W) + b)\n",
        "# with 16 units the weight matrix W will have shape (input_dimension, 16)\n",
        "# relu (rectified linear unit) is meant to zero out negative values\n",
        "# sigmoid squashes arbitrary values into the [0, 1] interval, outputing something that can be interpreted as probability \n",
        "model = keras.Sequential([ \n",
        "    layers.Dense(16, activation='relu'),\n",
        "    layers.Dense(16, activation='relu'),\n",
        "    layers.Dense(1, activation='sigmoid')\n",
        "])"
      ],
      "metadata": {
        "id": "nWXbW7xUZ4F7"
      },
      "execution_count": 5,
      "outputs": []
    },
    {
      "cell_type": "code",
      "source": [
        "# Loss function: \n",
        "# for a binary classification problem with the output in terms of probability, \n",
        "# we would use binary_crossentropy loss. \n",
        "# (crossentropy measures the distance between probability distributions)\n",
        "\n",
        "# Optimizer: rmsprop = a good default choice for any problem \n",
        "\n",
        "model.compile(optimizer='rmsprop',\n",
        "              loss='binary_crossentropy',\n",
        "              metrics=['accuracy'])"
      ],
      "metadata": {
        "id": "DxJaUO35cAfx"
      },
      "execution_count": 6,
      "outputs": []
    },
    {
      "cell_type": "markdown",
      "source": [
        "### Validating your approach "
      ],
      "metadata": {
        "id": "mfBZiMQbr7hS"
      }
    },
    {
      "cell_type": "code",
      "source": [
        "# create a validation set by setting appart 10,000 samples from the original training data \n",
        "\n",
        "x_val = x_train[:10000]\n",
        "partial_x_train = x_train[10000:]\n",
        "y_val = y_train[:10000]\n",
        "partial_y_train = y_train[10000:]"
      ],
      "metadata": {
        "id": "7eId4xOrr3ru"
      },
      "execution_count": 7,
      "outputs": []
    },
    {
      "cell_type": "code",
      "source": [
        "# training the model: \n",
        "# train the model for 20 epochs (iterations over all samples in the training data)\n",
        "# in mini-batches of 512 samples \n",
        "# monitro loss and accuracy using the validation data \n",
        "\n",
        "history = model.fit(partial_x_train,\n",
        "                    partial_y_train,\n",
        "                    epochs=20,\n",
        "                    batch_size=512,\n",
        "                    validation_data=(x_val, y_val))"
      ],
      "metadata": {
        "id": "34AmrNyssjl-"
      },
      "execution_count": null,
      "outputs": []
    },
    {
      "cell_type": "code",
      "source": [
        "# model.fit() return a History object, which has a member history = dictionary containing data about the training proccess. \n",
        "\n",
        "history_dict = history.history\n",
        "history_dict.keys()"
      ],
      "metadata": {
        "colab": {
          "base_uri": "https://localhost:8080/"
        },
        "id": "68Mwx0krtPKD",
        "outputId": "7d8e0678-651d-4401-b585-564719574100"
      },
      "execution_count": 9,
      "outputs": [
        {
          "output_type": "execute_result",
          "data": {
            "text/plain": [
              "dict_keys(['loss', 'accuracy', 'val_loss', 'val_accuracy'])"
            ]
          },
          "metadata": {},
          "execution_count": 9
        }
      ]
    },
    {
      "cell_type": "code",
      "source": [
        "# use Matplotlib to plot the training and validation loss: \n",
        "\n",
        "import matplotlib.pyplot as plt \n",
        "\n",
        "history_dict = history.history \n",
        "loss_values = history_dict['loss']\n",
        "val_loss_values = history_dict['val_loss']\n",
        "epochs = range(1, len(loss_values) + 1)\n",
        "\n",
        "plt.plot(epochs, loss_values, 'bo', label='Training loss') # bo is for blue dot\n",
        "plt.plot(epochs, val_loss_values, 'b', label='Validation loss') # b is for blue line \n",
        "plt.title('Training and validation loss')\n",
        "plt.xlabel('Epochs')\n",
        "plt.ylabel('Loss')\n",
        "plt.legend()\n",
        "plt.show() \n"
      ],
      "metadata": {
        "colab": {
          "base_uri": "https://localhost:8080/",
          "height": 295
        },
        "id": "VoRNNm4OuBW6",
        "outputId": "ff5986ce-7b6f-4c3b-cbb8-74b6972897b4"
      },
      "execution_count": 10,
      "outputs": [
        {
          "output_type": "display_data",
          "data": {
            "text/plain": [
              "<Figure size 432x288 with 1 Axes>"
            ],
            "image/png": "[encoded data removed]"
          },
          "metadata": {
            "needs_background": "light"
          }
        }
      ]
    },
    {
      "cell_type": "code",
      "source": [
        "# plottin the training and validation accuracy:\n",
        "\n",
        "plt.clf()\n",
        "acc = history_dict['accuracy']\n",
        "val_acc = history_dict['val_accuracy']\n",
        "plt.plot(epochs, acc, 'bo', label='Training acc')\n",
        "plt.plot(epochs, val_acc, 'b', label=\"Validation_acc\")\n",
        "plt.title('Training and Validation Accuracy')\n",
        "plt.xlabel('Epochs')\n",
        "plt.ylabel('Accuracy')\n",
        "plt.legend()\n",
        "plt.show()"
      ],
      "metadata": {
        "id": "W-ITB85svY1I",
        "outputId": "75e3c2e5-c68a-45f5-d3ca-4a5f2bacf37e",
        "colab": {
          "base_uri": "https://localhost:8080/",
          "height": 295
        }
      },
      "execution_count": 12,
      "outputs": [
        {
          "output_type": "display_data",
          "data": {
            "text/plain": [
              "<Figure size 432x288 with 1 Axes>"
            ],
            "image/png": "[encoded data removed]"
          },
          "metadata": {
            "needs_background": "light"
          }
        }
      ]
    },
    {
      "cell_type": "code",
      "source": [
        "# Overfitting: after the 7th epoch, we are optimizing on the training data and \n",
        "# we end up learning representations specific to the training data and don't generalize to data outside of the training set. \n",
        "# To prevent overfitting we need to stop training after 7 epochs and then evaluate it on the test data. "
      ],
      "metadata": {
        "id": "nDEpnmll0_bR"
      },
      "execution_count": 13,
      "outputs": []
    },
    {
      "cell_type": "code",
      "source": [
        "# Retraining the model from scratch for four epochs end evaluate it on the test data \n",
        "\n",
        "model = keras.Sequential([\n",
        "    layers.Dense(16, activation='relu'),\n",
        "    layers.Dense(16, activation='relu'),\n",
        "    layers.Dense(1, activation='sigmoid')\n",
        "])\n",
        "model.compile(optimizer='rmsprop',\n",
        "              loss='binary_crossentropy',\n",
        "              metrics=['accuracy'])\n",
        "model.fit(x_train, y_train, epochs=4, batch_size=512)\n",
        "\n",
        "results = model.evaluate(x_test, y_test)\n"
      ],
      "metadata": {
        "id": "PVLWGKUH2Fof"
      },
      "execution_count": null,
      "outputs": []
    },
    {
      "cell_type": "code",
      "source": [
        "results # test loss and accuracy "
      ],
      "metadata": {
        "id": "__rAF7ng4fkx",
        "outputId": "b2c55102-12ff-46d3-ec41-936dbd16c46d",
        "colab": {
          "base_uri": "https://localhost:8080/"
        }
      },
      "execution_count": 18,
      "outputs": [
        {
          "output_type": "execute_result",
          "data": {
            "text/plain": [
              "[0.3009701073169708, 0.8805199861526489]"
            ]
          },
          "metadata": {},
          "execution_count": 18
        }
      ]
    },
    {
      "cell_type": "code",
      "source": [
        "# Generate the likelihood of reviews being positive by using the predict method:\n",
        "\n",
        "model.predict(x_test)"
      ],
      "metadata": {
        "id": "okxa00u64izv"
      },
      "execution_count": null,
      "outputs": []
    },
    {
      "cell_type": "markdown",
      "source": [
        "### Experiments"
      ],
      "metadata": {
        "id": "OYDqHPvr5n9C"
      }
    },
    {
      "cell_type": "code",
      "source": [
        "# Add one more representation Dense layer: \n",
        "model = keras.Sequential([\n",
        "    layers.Dense(16, activation='relu'),\n",
        "    layers.Dense(16, activation='relu'),\n",
        "    layers.Dense(16, activation='relu'),\n",
        "    layers.Dense(1, activation='sigmoid')\n",
        "])\n",
        "model.compile(optimizer='rmsprop',\n",
        "              loss='binary_crossentropy',\n",
        "              metrics=['accuracy'])\n",
        "\n",
        "model.fit(x_train, y_train, epochs=4, batch_size=512)\n",
        "\n",
        "result = model.evaluate(x_test, y_test)"
      ],
      "metadata": {
        "id": "pveRK7uq5rCz"
      },
      "execution_count": null,
      "outputs": []
    },
    {
      "cell_type": "code",
      "source": [
        "results # no difference in comperison to just two representation layers"
      ],
      "metadata": {
        "id": "tKWTbb3a69Qe",
        "outputId": "63276f8e-d13b-4999-8b83-efd0b72c1858",
        "colab": {
          "base_uri": "https://localhost:8080/"
        }
      },
      "execution_count": 22,
      "outputs": [
        {
          "output_type": "execute_result",
          "data": {
            "text/plain": [
              "[0.3009701073169708, 0.8805199861526489]"
            ]
          },
          "metadata": {},
          "execution_count": 22
        }
      ]
    },
    {
      "cell_type": "code",
      "source": [
        "# Leave only one representation Dense layer:\n",
        "\n",
        "model = keras.Sequential([\n",
        "    layers.Dense(16, activation='relu'),\n",
        "    layers.Dense(1, activation='sigmoid')\n",
        "])\n",
        "model.compile(optimizer='rmsprop',\n",
        "              loss='binary_crossentropy',\n",
        "              metrics=['accuracy'])\n",
        "model.fit(x_train, y_train, epochs=4, batch_size=512)\n",
        "\n",
        "result = model.evaluate(x_test, y_test)"
      ],
      "metadata": {
        "id": "9RNa1D-17Bv6",
        "outputId": "e9d505d6-ca8f-4dec-b4bc-dce7a5e51213",
        "colab": {
          "base_uri": "https://localhost:8080/"
        }
      },
      "execution_count": 24,
      "outputs": [
        {
          "output_type": "stream",
          "name": "stdout",
          "text": [
            "Epoch 1/4\n",
            "49/49 [==============================] - 1s 15ms/step - loss: 0.4382 - accuracy: 0.8309\n",
            "Epoch 2/4\n",
            "49/49 [==============================] - 1s 16ms/step - loss: 0.2697 - accuracy: 0.9090\n",
            "Epoch 3/4\n",
            "49/49 [==============================] - 1s 15ms/step - loss: 0.2148 - accuracy: 0.9253\n",
            "Epoch 4/4\n",
            "49/49 [==============================] - 1s 15ms/step - loss: 0.1820 - accuracy: 0.9377\n",
            "782/782 [==============================] - 1s 2ms/step - loss: 0.2889 - accuracy: 0.8828\n"
          ]
        }
      ]
    },
    {
      "cell_type": "code",
      "source": [
        "result # loss slightly decreased and accuracy incresed. Straing? "
      ],
      "metadata": {
        "id": "jIaEl8Do8UZz",
        "outputId": "cd4df2ee-eaf7-493b-b35e-ddb95b8d004d",
        "colab": {
          "base_uri": "https://localhost:8080/"
        }
      },
      "execution_count": 25,
      "outputs": [
        {
          "output_type": "execute_result",
          "data": {
            "text/plain": [
              "[0.28885480761528015, 0.8827599883079529]"
            ]
          },
          "metadata": {},
          "execution_count": 25
        }
      ]
    },
    {
      "cell_type": "code",
      "source": [],
      "metadata": {
        "id": "DnNCoZwe8ZkM"
      },
      "execution_count": null,
      "outputs": []
    }
  ]
}