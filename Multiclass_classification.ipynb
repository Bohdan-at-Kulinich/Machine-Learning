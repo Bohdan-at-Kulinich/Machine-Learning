{
  "nbformat": 4,
  "nbformat_minor": 0,
  "metadata": {
    "colab": {
      "provenance": [],
      "authorship_tag": "ABX9TyOyCCr1fGbKeuLWmC61XoDc",
      "include_colab_link": true
    },
    "kernelspec": {
      "name": "python3",
      "display_name": "Python 3"
    },
    "language_info": {
      "name": "python"
    }
  },
  "cells": [
    {
      "cell_type": "markdown",
      "metadata": {
        "id": "view-in-github",
        "colab_type": "text"
      },
      "source": [
        "<a href=\"https://colab.research.google.com/github/Bohdan-at-Kulinich/Machine-Learning/blob/main/Multiclass_classification.ipynb\" target=\"_parent\"><img src=\"https://colab.research.google.com/assets/colab-badge.svg\" alt=\"Open In Colab\"/></a>"
      ]
    },
    {
      "cell_type": "markdown",
      "source": [
        "## Single-label multiclass classification\n",
        "\n",
        "---\n",
        "\n"
      ],
      "metadata": {
        "id": "fDrtLAo_QpEN"
      }
    },
    {
      "cell_type": "code",
      "source": [
        "# Loadin Reuters dataset: \n",
        "\n",
        "from tensorflow.keras.datasets import reuters\n",
        "(train_data, train_labels), (test_data, test_labels) = reuters.load_data(num_words=10000) \n",
        "\n",
        "# restrict the data to the 10,000 most frequently occuring words found in the data "
      ],
      "metadata": {
        "id": "qTg7WctEQwbm",
        "colab": {
          "base_uri": "https://localhost:8080/"
        },
        "outputId": "7788ca8f-c100-419c-c515-dbc5d788b36d"
      },
      "execution_count": 3,
      "outputs": [
        {
          "output_type": "stream",
          "name": "stdout",
          "text": [
            "Downloading data from https://storage.googleapis.com/tensorflow/tf-keras-datasets/reuters.npz\n",
            "2113536/2110848 [==============================] - 0s 0us/step\n",
            "2121728/2110848 [==============================] - 0s 0us/step\n"
          ]
        }
      ]
    },
    {
      "cell_type": "code",
      "source": [
        "len(train_data) # number of training examples "
      ],
      "metadata": {
        "colab": {
          "base_uri": "https://localhost:8080/"
        },
        "id": "LJVLOjJwRWNs",
        "outputId": "47feba59-6276-447e-8fe3-a3754af6417c"
      },
      "execution_count": 5,
      "outputs": [
        {
          "output_type": "execute_result",
          "data": {
            "text/plain": [
              "8982"
            ]
          },
          "metadata": {},
          "execution_count": 5
        }
      ]
    },
    {
      "cell_type": "code",
      "source": [
        "len(test_data) # number of test examples "
      ],
      "metadata": {
        "colab": {
          "base_uri": "https://localhost:8080/"
        },
        "id": "qedtSNu6RcZV",
        "outputId": "fc46e44f-987b-4342-9100-307461691fc7"
      },
      "execution_count": 6,
      "outputs": [
        {
          "output_type": "execute_result",
          "data": {
            "text/plain": [
              "2246"
            ]
          },
          "metadata": {},
          "execution_count": 6
        }
      ]
    },
    {
      "cell_type": "code",
      "source": [
        "# each example is a list of integers:\n",
        "\n",
        "train_data[10] "
      ],
      "metadata": {
        "id": "1P2zV9xJRlrr"
      },
      "execution_count": null,
      "outputs": []
    },
    {
      "cell_type": "code",
      "source": [
        "# decoding newswires back to text: \n",
        "word_index = reuters.get_word_index() # dictionary {word : index} \n",
        "reverse_word_index = dict( \n",
        "    [(value, key) for (key, value) in word_index.items()]) # dictionary {index: word}\n",
        "decoded_newswire = \" \".join(\n",
        "    [reverse_word_index.get(i-3, \"?\") for i in train_data[10]]) \n",
        "\n",
        "# offset the indices by 3, since 0, 1, 2 are reserved for 'padding', 'start sequence', and 'unknown'. "
      ],
      "metadata": {
        "id": "qhq1XH5NRzUd"
      },
      "execution_count": null,
      "outputs": []
    },
    {
      "cell_type": "code",
      "source": [
        "# the labels associated with an example is an integer between 0 and 45: \n",
        "\n",
        "train_labels[10]"
      ],
      "metadata": {
        "colab": {
          "base_uri": "https://localhost:8080/"
        },
        "id": "16ErYQm8SKl2",
        "outputId": "2bd40dc3-5f13-47cf-eae6-051818a52748"
      },
      "execution_count": null,
      "outputs": [
        {
          "output_type": "execute_result",
          "data": {
            "text/plain": [
              "3"
            ]
          },
          "metadata": {},
          "execution_count": 12
        }
      ]
    },
    {
      "cell_type": "markdown",
      "source": [
        "### Preparing the data "
      ],
      "metadata": {
        "id": "vo2DO4bUT4l6"
      }
    },
    {
      "cell_type": "code",
      "source": [
        "# Encoding the input data: \n",
        "# vectorize the data via muli-hot encoding\n",
        "\n",
        "import numpy as np \n",
        "\n",
        "def vectorize_sequence(sequences, dimension=10000):\n",
        "  results = np.zeros((len(sequences), dimension)) # create an all-zero matrix \n",
        "  for i, sequence in enumerate(sequences):\n",
        "    for j in sequence:\n",
        "      results[i, j] = 1.  # sets specific indices of results[i] to 1 \n",
        "  return results \n",
        "\n",
        "x_train = vectorize_sequence(train_data)\n",
        "x_test = vectorize_sequence(test_data) \n"
      ],
      "metadata": {
        "id": "Ns-yO4nKT6tT"
      },
      "execution_count": 7,
      "outputs": []
    },
    {
      "cell_type": "code",
      "source": [
        "# Encoding hte labels: \n",
        "# one-hot encoding for categorical data = categorical encoding\n",
        "# embedding each label as an all-zero vector with 1 in place of the label index\n",
        "\n",
        "def to_one_hot(labels, dimension=46):\n",
        "  results = np.zeros((len(labels), dimension))\n",
        "  for i, label in enumerate(labels):\n",
        "    results[i, label] = 1. \n",
        "  return results \n",
        "\n",
        "y_train = to_one_hot(train_labels)\n",
        "y_test = to_one_hot(test_labels) "
      ],
      "metadata": {
        "id": "FZ6L6Jd7VPaS"
      },
      "execution_count": 8,
      "outputs": []
    },
    {
      "cell_type": "code",
      "source": [
        "# The built-in way of doing one-hot encoding in Keras:\n",
        "\n",
        "from tensorflow.keras.utils import to_categorical \n",
        "y_train = to_categorical(train_labels)\n",
        "y_test = to_categorical(test_labels) "
      ],
      "metadata": {
        "id": "DkLFHgUtWNYW"
      },
      "execution_count": 9,
      "outputs": []
    },
    {
      "cell_type": "markdown",
      "source": [
        "### Model building "
      ],
      "metadata": {
        "id": "VAFv9VWqYA7m"
      }
    },
    {
      "cell_type": "code",
      "source": [
        "# since the number of output classes is big (46), to prevent the information bottleneck\n",
        "# which cab be potentially generated if the dimensionality of the Dense layers is too small, \n",
        "# we need to increase the number of Dense units to 64\n",
        "\n",
        "from tensorflow import keras \n",
        "from tensorflow.keras import layers \n",
        "\n",
        "model = keras.Sequential([\n",
        "    layers.Dense(64, activation='relu'),\n",
        "    layers.Dense(64, activation='relu'),\n",
        "    layers.Dense(46, activation='softmax')\n",
        "])\n",
        "\n",
        "# The last Dense layer has the size of 46: for each input sample the network will output a 46-dim vector. \n",
        "# Each entry of this vector will encode a different output class. \n",
        "# The softmax activation function in the last Dense layer will output a probability distribution over the 46 diff output classes:\n",
        "# for every input sample, the model produces a 46-dim vector, where the output[i] is the probability that the sample \n",
        "# belongs to class i. The 46 scores sum up to 1. "
      ],
      "metadata": {
        "id": "xDKZ8MdbYD_s"
      },
      "execution_count": 10,
      "outputs": []
    },
    {
      "cell_type": "code",
      "source": [
        "# The best lost function in this case is categorical_crossentropy, which measures the distance between the prob. distribution output of the model\n",
        "# and the true distribution of the labels. We attempt to minimize this distance. \n",
        "\n",
        "model.compile(optimizer='rmsprop',\n",
        "              loss='categorical_crossentropy',\n",
        "              metrics=['accuracy'])\n"
      ],
      "metadata": {
        "id": "gfj5IC0_ZF4f"
      },
      "execution_count": 11,
      "outputs": []
    },
    {
      "cell_type": "markdown",
      "source": [
        "### Validation "
      ],
      "metadata": {
        "id": "L-FqnAJpIVap"
      }
    },
    {
      "cell_type": "code",
      "source": [
        "# Set apart 1,000 samples in the training data to use as a validation set:\n",
        "\n",
        "x_val = x_train[:1000]\n",
        "partial_x_train = x_train[1000:]\n",
        "y_val = y_train[:1000]\n",
        "partial_y_train = y_train[1000:]\n"
      ],
      "metadata": {
        "id": "ye56yTJhIWl2"
      },
      "execution_count": 12,
      "outputs": []
    },
    {
      "cell_type": "code",
      "source": [
        "# Train the model for 20 epochs: \n",
        "\n",
        "history = model.fit(partial_x_train, \n",
        "                    partial_y_train,\n",
        "                    epochs=20,\n",
        "                    batch_size=512,\n",
        "                    validation_data=(x_val, y_val)) \n"
      ],
      "metadata": {
        "colab": {
          "base_uri": "https://localhost:8080/"
        },
        "id": "xdOu1f1SIxKu",
        "outputId": "6e815d47-b70c-46a1-addb-d43a49424f6e"
      },
      "execution_count": 13,
      "outputs": [
        {
          "output_type": "stream",
          "name": "stdout",
          "text": [
            "Epoch 1/20\n",
            "16/16 [==============================] - 2s 58ms/step - loss: 2.6273 - accuracy: 0.4733 - val_loss: 1.7675 - val_accuracy: 0.6280\n",
            "Epoch 2/20\n",
            "16/16 [==============================] - 1s 46ms/step - loss: 1.4449 - accuracy: 0.7033 - val_loss: 1.3480 - val_accuracy: 0.7160\n",
            "Epoch 3/20\n",
            "16/16 [==============================] - 1s 46ms/step - loss: 1.0700 - accuracy: 0.7783 - val_loss: 1.1525 - val_accuracy: 0.7550\n",
            "Epoch 4/20\n",
            "16/16 [==============================] - 1s 43ms/step - loss: 0.8415 - accuracy: 0.8212 - val_loss: 1.0490 - val_accuracy: 0.7710\n",
            "Epoch 5/20\n",
            "16/16 [==============================] - 1s 43ms/step - loss: 0.6635 - accuracy: 0.8596 - val_loss: 1.0061 - val_accuracy: 0.7750\n",
            "Epoch 6/20\n",
            "16/16 [==============================] - 1s 45ms/step - loss: 0.5328 - accuracy: 0.8889 - val_loss: 0.9536 - val_accuracy: 0.7910\n",
            "Epoch 7/20\n",
            "16/16 [==============================] - 1s 45ms/step - loss: 0.4262 - accuracy: 0.9095 - val_loss: 0.8920 - val_accuracy: 0.8100\n",
            "Epoch 8/20\n",
            "16/16 [==============================] - 1s 43ms/step - loss: 0.3474 - accuracy: 0.9258 - val_loss: 0.8929 - val_accuracy: 0.8110\n",
            "Epoch 9/20\n",
            "16/16 [==============================] - 1s 44ms/step - loss: 0.2873 - accuracy: 0.9357 - val_loss: 0.9188 - val_accuracy: 0.8040\n",
            "Epoch 10/20\n",
            "16/16 [==============================] - 1s 45ms/step - loss: 0.2444 - accuracy: 0.9430 - val_loss: 0.8958 - val_accuracy: 0.8150\n",
            "Epoch 11/20\n",
            "16/16 [==============================] - 1s 43ms/step - loss: 0.2083 - accuracy: 0.9473 - val_loss: 1.0408 - val_accuracy: 0.7780\n",
            "Epoch 12/20\n",
            "16/16 [==============================] - 1s 47ms/step - loss: 0.1920 - accuracy: 0.9493 - val_loss: 0.9985 - val_accuracy: 0.7990\n",
            "Epoch 13/20\n",
            "16/16 [==============================] - 1s 44ms/step - loss: 0.1668 - accuracy: 0.9534 - val_loss: 0.9499 - val_accuracy: 0.8110\n",
            "Epoch 14/20\n",
            "16/16 [==============================] - 1s 44ms/step - loss: 0.1576 - accuracy: 0.9531 - val_loss: 0.9864 - val_accuracy: 0.8030\n",
            "Epoch 15/20\n",
            "16/16 [==============================] - 1s 43ms/step - loss: 0.1393 - accuracy: 0.9553 - val_loss: 0.9979 - val_accuracy: 0.8040\n",
            "Epoch 16/20\n",
            "16/16 [==============================] - 1s 45ms/step - loss: 0.1354 - accuracy: 0.9550 - val_loss: 1.0010 - val_accuracy: 0.8020\n",
            "Epoch 17/20\n",
            "16/16 [==============================] - 1s 45ms/step - loss: 0.1271 - accuracy: 0.9575 - val_loss: 1.0189 - val_accuracy: 0.8040\n",
            "Epoch 18/20\n",
            "16/16 [==============================] - 1s 43ms/step - loss: 0.1226 - accuracy: 0.9558 - val_loss: 1.0832 - val_accuracy: 0.7940\n",
            "Epoch 19/20\n",
            "16/16 [==============================] - 1s 46ms/step - loss: 0.1137 - accuracy: 0.9583 - val_loss: 1.1039 - val_accuracy: 0.7900\n",
            "Epoch 20/20\n",
            "16/16 [==============================] - 1s 46ms/step - loss: 0.1141 - accuracy: 0.9580 - val_loss: 1.1582 - val_accuracy: 0.7830\n"
          ]
        }
      ]
    },
    {
      "cell_type": "code",
      "source": [
        "# Plotting the training and validation loss:\n",
        "import matplotlib.pyplot as plt\n",
        "\n",
        "loss = history.history['loss']\n",
        "val_loss = history.history['val_loss']\n",
        "epochs = range(1, len(loss)+1)\n",
        "plt.plot(epochs, loss, \"bo\", label=\"Training loss\")\n",
        "plt.plot(epochs, val_loss, 'b', label=\"Validation loss\")\n",
        "plt.title(\"Training and validation loss\")\n",
        "plt.xlabel('Epochs')\n",
        "plt.ylabel('Loss')\n",
        "plt.legend()\n",
        "plt.show()"
      ],
      "metadata": {
        "colab": {
          "base_uri": "https://localhost:8080/",
          "height": 295
        },
        "id": "Ek-yvguhJEKz",
        "outputId": "3272062e-2347-453c-86b6-8e9088bea135"
      },
      "execution_count": 17,
      "outputs": [
        {
          "output_type": "display_data",
          "data": {
            "text/plain": [
              "<Figure size 432x288 with 1 Axes>"
            ],
            "image/png": "[encoded data removed]"
          },
          "metadata": {
            "needs_background": "light"
          }
        }
      ]
    },
    {
      "cell_type": "code",
      "source": [
        "# Plotting the training and validation accuracy:\n",
        "\n",
        "plt.clf()\n",
        "acc = history.history['accuracy']\n",
        "val_acc = history.history['val_accuracy']\n",
        "plt.plot(epochs, acc, 'bo', label='Training accuracy')\n",
        "plt.plot(epochs, val_acc, 'b', label='Validation accuracy')\n",
        "plt.title('Training and validation accuracy')\n",
        "plt.xlabel('Epochs')\n",
        "plt.ylabel('Accuracy')\n",
        "plt.legend()\n",
        "plt.show()"
      ],
      "metadata": {
        "colab": {
          "base_uri": "https://localhost:8080/",
          "height": 295
        },
        "id": "fRdXouB1JUXg",
        "outputId": "dff50a8a-d225-45a3-9994-ab4dcc86c678"
      },
      "execution_count": 18,
      "outputs": [
        {
          "output_type": "display_data",
          "data": {
            "text/plain": [
              "<Figure size 432x288 with 1 Axes>"
            ],
            "image/png": "[encoded data removed]"
          },
          "metadata": {
            "needs_background": "light"
          }
        }
      ]
    },
    {
      "cell_type": "code",
      "source": [
        "# The model begins to overfit after 9 epochs. \n",
        "# To solve this issue, we retrain the model on the first 9 epochs and then validate it on the test set:\n",
        "\n",
        "model = keras.Sequential([\n",
        "    layers.Dense(64, activation='relu'),\n",
        "    layers.Dense(64, activation='relu'),\n",
        "    layers.Dense(46, activation='softmax')\n",
        "])\n",
        "\n",
        "model.compile(optimizer='rmsprop',\n",
        "              loss='categorical_crossentropy',\n",
        "              metrics=['accuracy'])\n",
        "\n",
        "model.fit(x_train,\n",
        "          y_train, epochs=9, batch_size=512)\n",
        "\n",
        "results = model.evaluate(x_test, y_test)"
      ],
      "metadata": {
        "colab": {
          "base_uri": "https://localhost:8080/"
        },
        "id": "L6524OivRwgW",
        "outputId": "da5c1d38-0766-403a-b6f8-3dc4498a6a50"
      },
      "execution_count": 19,
      "outputs": [
        {
          "output_type": "stream",
          "name": "stdout",
          "text": [
            "Epoch 1/9\n",
            "18/18 [==============================] - 2s 42ms/step - loss: 2.6487 - accuracy: 0.5342\n",
            "Epoch 2/9\n",
            "18/18 [==============================] - 1s 42ms/step - loss: 1.4042 - accuracy: 0.7102\n",
            "Epoch 3/9\n",
            "18/18 [==============================] - 1s 41ms/step - loss: 1.0185 - accuracy: 0.7812\n",
            "Epoch 4/9\n",
            "18/18 [==============================] - 1s 42ms/step - loss: 0.7887 - accuracy: 0.8379\n",
            "Epoch 5/9\n",
            "18/18 [==============================] - 1s 41ms/step - loss: 0.6219 - accuracy: 0.8692\n",
            "Epoch 6/9\n",
            "18/18 [==============================] - 1s 42ms/step - loss: 0.4949 - accuracy: 0.8966\n",
            "Epoch 7/9\n",
            "18/18 [==============================] - 1s 41ms/step - loss: 0.3999 - accuracy: 0.9154\n",
            "Epoch 8/9\n",
            "18/18 [==============================] - 1s 42ms/step - loss: 0.3245 - accuracy: 0.9302\n",
            "Epoch 9/9\n",
            "18/18 [==============================] - 1s 41ms/step - loss: 0.2719 - accuracy: 0.9379\n",
            "71/71 [==============================] - 0s 3ms/step - loss: 0.9317 - accuracy: 0.8019\n"
          ]
        }
      ]
    },
    {
      "cell_type": "code",
      "source": [
        "# This approach gives an accuracy of 80%\n",
        "\n",
        "# The accuracy reaches by a purely random classifier (random baseline): \n",
        "\n",
        "import copy\n",
        "test_labels_copy = copy.copy(test_labels)\n",
        "np.random.shuffle(test_labels_copy)\n",
        "hits_array = np.array(test_labels) == np.array(test_labels_copy)\n",
        "hits_array.mean() \n",
        "\n",
        "# A random classifier would score around 19% accuracy. "
      ],
      "metadata": {
        "colab": {
          "base_uri": "https://localhost:8080/"
        },
        "id": "oDAyM-OPS9iP",
        "outputId": "ccf4aff4-68d2-4ad9-e54f-0838117dd2a8"
      },
      "execution_count": 20,
      "outputs": [
        {
          "output_type": "execute_result",
          "data": {
            "text/plain": [
              "0.18699910952804988"
            ]
          },
          "metadata": {},
          "execution_count": 20
        }
      ]
    },
    {
      "cell_type": "markdown",
      "source": [
        "### Generating predictions on new data"
      ],
      "metadata": {
        "id": "odQb6u50UWHs"
      }
    },
    {
      "cell_type": "code",
      "source": [
        "predictions = model.predict(x_test) \n",
        "\n",
        "# each entry in predictions is a vector of length 46\n",
        "predictions[0].shape"
      ],
      "metadata": {
        "colab": {
          "base_uri": "https://localhost:8080/"
        },
        "id": "jSAoh417UZkT",
        "outputId": "2022b176-8b1d-4146-9fa5-941ce821a7a2"
      },
      "execution_count": 25,
      "outputs": [
        {
          "output_type": "execute_result",
          "data": {
            "text/plain": [
              "(46,)"
            ]
          },
          "metadata": {},
          "execution_count": 25
        }
      ]
    },
    {
      "cell_type": "code",
      "source": [
        "# the coefficients in this vector sum to 1, since they form a probability distribution:\n",
        "\n",
        "np.sum(predictions[0]) "
      ],
      "metadata": {
        "colab": {
          "base_uri": "https://localhost:8080/"
        },
        "id": "kogoFbKfUvZp",
        "outputId": "6f268744-b355-426e-f0ad-24ace0310c6c"
      },
      "execution_count": 26,
      "outputs": [
        {
          "output_type": "execute_result",
          "data": {
            "text/plain": [
              "1.0"
            ]
          },
          "metadata": {},
          "execution_count": 26
        }
      ]
    },
    {
      "cell_type": "code",
      "source": [
        "# the largest entry is the predicted class, which has the highest propabability:\n",
        "np.argmax(predictions[0])"
      ],
      "metadata": {
        "colab": {
          "base_uri": "https://localhost:8080/"
        },
        "id": "ZDnpVZAwVij9",
        "outputId": "30dd007b-f4e2-48e8-b269-461e5db3a51b"
      },
      "execution_count": 28,
      "outputs": [
        {
          "output_type": "execute_result",
          "data": {
            "text/plain": [
              "3"
            ]
          },
          "metadata": {},
          "execution_count": 28
        }
      ]
    },
    {
      "cell_type": "code",
      "source": [
        "# Different way to handle the labels:\n",
        "# we could cast the labels as an integer tensor:\n",
        "\n",
        "y_train = np.array(train_labels)\n",
        "y_test = np.array(test_labels) "
      ],
      "metadata": {
        "id": "vgEvtX4cWE50"
      },
      "execution_count": 31,
      "outputs": []
    },
    {
      "cell_type": "code",
      "source": [
        "# To implement this approach, we would need to change the loss function to \n",
        "# sparse_categorical_crossentropy\n",
        "\n",
        "model.compile(optimizer='rmsprop',\n",
        "              loss='sparse_categorical_crossentropy',\n",
        "              metrics=['accuracy']) "
      ],
      "metadata": {
        "id": "pNQx9coVWzTB"
      },
      "execution_count": null,
      "outputs": []
    }
  ]
}