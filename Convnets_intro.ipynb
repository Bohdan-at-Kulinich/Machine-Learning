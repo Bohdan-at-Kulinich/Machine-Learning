{
  "nbformat": 4,
  "nbformat_minor": 0,
  "metadata": {
    "colab": {
      "provenance": [],
      "authorship_tag": "ABX9TyO7rT79lqs7DOqaDvG7jy8v",
      "include_colab_link": true
    },
    "kernelspec": {
      "name": "python3",
      "display_name": "Python 3"
    },
    "language_info": {
      "name": "python"
    },
    "accelerator": "GPU",
    "gpuClass": "standard"
  },
  "cells": [
    {
      "cell_type": "markdown",
      "metadata": {
        "id": "view-in-github",
        "colab_type": "text"
      },
      "source": [
        "<a href=\"https://colab.research.google.com/github/Bohdan-at-Kulinich/Machine-Learning/blob/main/Convnets_intro.ipynb\" target=\"_parent\"><img src=\"https://colab.research.google.com/assets/colab-badge.svg\" alt=\"Open In Colab\"/></a>"
      ]
    },
    {
      "cell_type": "markdown",
      "source": [
        "### Introductions to convnets: "
      ],
      "metadata": {
        "id": "XoR7zTvbqkve"
      }
    },
    {
      "cell_type": "code",
      "source": [
        "# Initiating a small convnet: \n",
        "\n",
        "from tensorflow import keras \n",
        "from tensorflow.keras import layers "
      ],
      "metadata": {
        "id": "GZMLoPWAqnSi"
      },
      "execution_count": 1,
      "outputs": []
    },
    {
      "cell_type": "code",
      "source": [
        "inputs = keras.Input(shape=(28, 28, 1))  # image height, width, channels\n",
        "\n",
        "x = layers.Conv2D(filters=32, kernel_size=3, activation='relu')(inputs)\n",
        "x = layers.MaxPooling2D(pool_size=2)(x)\n",
        "x = layers.Conv2D(filters=64, kernel_size=3, activation='relu')(x)\n",
        "x = layers.MaxPooling2D(pool_size=2)(x) \n",
        "x = layers.Conv2D(filters=128, kernel_size=3, activation='relu')(x)\n",
        "x = layers.Flatten()(x)\n",
        "\n",
        "outputs = layers.Dense(10, activation='softmax')(x) \n",
        "\n",
        "model = keras.Model(inputs=inputs, outputs=outputs) "
      ],
      "metadata": {
        "id": "iVbnwZFbqxKU"
      },
      "execution_count": 2,
      "outputs": []
    },
    {
      "cell_type": "code",
      "source": [
        "# model summary: \n",
        "\n",
        "model.summary()"
      ],
      "metadata": {
        "colab": {
          "base_uri": "https://localhost:8080/"
        },
        "id": "hiWSJhVYruKk",
        "outputId": "27156e88-8784-4546-d873-121b8d1f9dc4"
      },
      "execution_count": 3,
      "outputs": [
        {
          "output_type": "stream",
          "name": "stdout",
          "text": [
            "Model: \"model\"\n",
            "_________________________________________________________________\n",
            " Layer (type)                Output Shape              Param #   \n",
            "=================================================================\n",
            " input_1 (InputLayer)        [(None, 28, 28, 1)]       0         \n",
            "                                                                 \n",
            " conv2d (Conv2D)             (None, 26, 26, 32)        320       \n",
            "                                                                 \n",
            " max_pooling2d (MaxPooling2D  (None, 13, 13, 32)       0         \n",
            " )                                                               \n",
            "                                                                 \n",
            " conv2d_1 (Conv2D)           (None, 11, 11, 64)        18496     \n",
            "                                                                 \n",
            " max_pooling2d_1 (MaxPooling  (None, 5, 5, 64)         0         \n",
            " 2D)                                                             \n",
            "                                                                 \n",
            " conv2d_2 (Conv2D)           (None, 3, 3, 128)         73856     \n",
            "                                                                 \n",
            " flatten (Flatten)           (None, 1152)              0         \n",
            "                                                                 \n",
            " dense (Dense)               (None, 10)                11530     \n",
            "                                                                 \n",
            "=================================================================\n",
            "Total params: 104,202\n",
            "Trainable params: 104,202\n",
            "Non-trainable params: 0\n",
            "_________________________________________________________________\n"
          ]
        }
      ]
    },
    {
      "cell_type": "code",
      "source": [
        "# Training the convnet on MNIST images:\n",
        "\n",
        "from tensorflow.keras.datasets import mnist \n",
        "\n",
        "(train_images, train_labels), (test_images, test_labels) = mnist.load_data() \n",
        "\n",
        "train_images = train_images.reshape((60000, 28 ,28, 1))\n",
        "train_images = train_images.astype('float32') / 255 \n",
        "test_images = test_images.reshape((10000, 28 ,28, 1))\n",
        "test_images = test_images.astype('float32') / 255 \n",
        "\n",
        "model.compile( \n",
        "    optimizer='rmsprop',\n",
        "    loss='sparse_categorical_crossentropy',\n",
        "    metrics=['accuracy']\n",
        ")\n",
        "\n",
        "model.fit(train_images, train_labels, \n",
        "          epochs=5, \n",
        "          batch_size=64) \n",
        "\n"
      ],
      "metadata": {
        "colab": {
          "base_uri": "https://localhost:8080/"
        },
        "id": "EPxVf_NZr7J4",
        "outputId": "1d555196-2e14-4771-886f-e472735d1488"
      },
      "execution_count": 4,
      "outputs": [
        {
          "output_type": "stream",
          "name": "stdout",
          "text": [
            "Downloading data from https://storage.googleapis.com/tensorflow/tf-keras-datasets/mnist.npz\n",
            "11490434/11490434 [==============================] - 0s 0us/step\n",
            "Epoch 1/5\n",
            "938/938 [==============================] - 13s 5ms/step - loss: 0.1533 - accuracy: 0.9522\n",
            "Epoch 2/5\n",
            "938/938 [==============================] - 4s 5ms/step - loss: 0.0447 - accuracy: 0.9862\n",
            "Epoch 3/5\n",
            "938/938 [==============================] - 4s 5ms/step - loss: 0.0308 - accuracy: 0.9904\n",
            "Epoch 4/5\n",
            "938/938 [==============================] - 4s 5ms/step - loss: 0.0235 - accuracy: 0.9927\n",
            "Epoch 5/5\n",
            "938/938 [==============================] - 4s 5ms/step - loss: 0.0186 - accuracy: 0.9943\n"
          ]
        },
        {
          "output_type": "execute_result",
          "data": {
            "text/plain": [
              "<keras.callbacks.History at 0x7f31305bd210>"
            ]
          },
          "metadata": {},
          "execution_count": 4
        }
      ]
    },
    {
      "cell_type": "code",
      "source": [
        "# Evaluating the convnet: \n",
        "\n",
        "test_loss, test_acc = model.evaluate(test_images, test_labels)\n",
        "print(f\"Test accuracy: {test_acc:.3f}\")"
      ],
      "metadata": {
        "colab": {
          "base_uri": "https://localhost:8080/"
        },
        "id": "I55OayuRtUsZ",
        "outputId": "7d5d69b8-fe25-41da-800e-65082e8d8d00"
      },
      "execution_count": 5,
      "outputs": [
        {
          "output_type": "stream",
          "name": "stdout",
          "text": [
            "313/313 [==============================] - 1s 3ms/step - loss: 0.0297 - accuracy: 0.9916\n",
            "Test accuracy: 0.992\n"
          ]
        }
      ]
    },
    {
      "cell_type": "markdown",
      "source": [
        "### Training convnet from scratch on a small dataset: "
      ],
      "metadata": {
        "id": "qgphk6g6uT5t"
      }
    },
    {
      "cell_type": "code",
      "source": [
        "from google.colab import files\n",
        "files.upload()"
      ],
      "metadata": {
        "colab": {
          "base_uri": "https://localhost:8080/",
          "height": 90
        },
        "id": "xxLEZzpbuYy9",
        "outputId": "d8ebcac5-0693-4d60-d851-c6271a38a518"
      },
      "execution_count": 6,
      "outputs": [
        {
          "output_type": "display_data",
          "data": {
            "text/plain": [
              "<IPython.core.display.HTML object>"
            ],
            "text/html": [
              "\n",
              "     <input type=\"file\" id=\"files-8d5765f3-2080-43c4-bc9a-d5aff32bfcfb\" name=\"files[]\" multiple disabled\n",
              "        style=\"border:none\" />\n",
              "     <output id=\"result-8d5765f3-2080-43c4-bc9a-d5aff32bfcfb\">\n",
              "      Upload widget is only available when the cell has been executed in the\n",
              "      current browser session. Please rerun this cell to enable.\n",
              "      </output>\n",
              "      <script>// Copyright 2017 Google LLC\n",
              "//\n",
              "// Licensed under the Apache License, Version 2.0 (the \"License\");\n",
              "// you may not use this file except in compliance with the License.\n",
              "// You may obtain a copy of the License at\n",
              "//\n",
              "//      http://www.apache.org/licenses/LICENSE-2.0\n",
              "//\n",
              "// Unless required by applicable law or agreed to in writing, software\n",
              "// distributed under the License is distributed on an \"AS IS\" BASIS,\n",
              "// WITHOUT WARRANTIES OR CONDITIONS OF ANY KIND, either express or implied.\n",
              "// See the License for the specific language governing permissions and\n",
              "// limitations under the License.\n",
              "\n",
              "/**\n",
              " * @fileoverview Helpers for google.colab Python module.\n",
              " */\n",
              "(function(scope) {\n",
              "function span(text, styleAttributes = {}) {\n",
              "  const element = document.createElement('span');\n",
              "  element.textContent = text;\n",
              "  for (const key of Object.keys(styleAttributes)) {\n",
              "    element.style[key] = styleAttributes[key];\n",
              "  }\n",
              "  return element;\n",
              "}\n",
              "\n",
              "// Max number of bytes which will be uploaded at a time.\n",
              "const MAX_PAYLOAD_SIZE = 100 * 1024;\n",
              "\n",
              "function _uploadFiles(inputId, outputId) {\n",
              "  const steps = uploadFilesStep(inputId, outputId);\n",
              "  const outputElement = document.getElementById(outputId);\n",
              "  // Cache steps on the outputElement to make it available for the next call\n",
              "  // to uploadFilesContinue from Python.\n",
              "  outputElement.steps = steps;\n",
              "\n",
              "  return _uploadFilesContinue(outputId);\n",
              "}\n",
              "\n",
              "// This is roughly an async generator (not supported in the browser yet),\n",
              "// where there are multiple asynchronous steps and the Python side is going\n",
              "// to poll for completion of each step.\n",
              "// This uses a Promise to block the python side on completion of each step,\n",
              "// then passes the result of the previous step as the input to the next step.\n",
              "function _uploadFilesContinue(outputId) {\n",
              "  const outputElement = document.getElementById(outputId);\n",
              "  const steps = outputElement.steps;\n",
              "\n",
              "  const next = steps.next(outputElement.lastPromiseValue);\n",
              "  return Promise.resolve(next.value.promise).then((value) => {\n",
              "    // Cache the last promise value to make it available to the next\n",
              "    // step of the generator.\n",
              "    outputElement.lastPromiseValue = value;\n",
              "    return next.value.response;\n",
              "  });\n",
              "}\n",
              "\n",
              "/**\n",
              " * Generator function which is called between each async step of the upload\n",
              " * process.\n",
              " * @param {string} inputId Element ID of the input file picker element.\n",
              " * @param {string} outputId Element ID of the output display.\n",
              " * @return {!Iterable<!Object>} Iterable of next steps.\n",
              " */\n",
              "function* uploadFilesStep(inputId, outputId) {\n",
              "  const inputElement = document.getElementById(inputId);\n",
              "  inputElement.disabled = false;\n",
              "\n",
              "  const outputElement = document.getElementById(outputId);\n",
              "  outputElement.innerHTML = '';\n",
              "\n",
              "  const pickedPromise = new Promise((resolve) => {\n",
              "    inputElement.addEventListener('change', (e) => {\n",
              "      resolve(e.target.files);\n",
              "    });\n",
              "  });\n",
              "\n",
              "  const cancel = document.createElement('button');\n",
              "  inputElement.parentElement.appendChild(cancel);\n",
              "  cancel.textContent = 'Cancel upload';\n",
              "  const cancelPromise = new Promise((resolve) => {\n",
              "    cancel.onclick = () => {\n",
              "      resolve(null);\n",
              "    };\n",
              "  });\n",
              "\n",
              "  // Wait for the user to pick the files.\n",
              "  const files = yield {\n",
              "    promise: Promise.race([pickedPromise, cancelPromise]),\n",
              "    response: {\n",
              "      action: 'starting',\n",
              "    }\n",
              "  };\n",
              "\n",
              "  cancel.remove();\n",
              "\n",
              "  // Disable the input element since further picks are not allowed.\n",
              "  inputElement.disabled = true;\n",
              "\n",
              "  if (!files) {\n",
              "    return {\n",
              "      response: {\n",
              "        action: 'complete',\n",
              "      }\n",
              "    };\n",
              "  }\n",
              "\n",
              "  for (const file of files) {\n",
              "    const li = document.createElement('li');\n",
              "    li.append(span(file.name, {fontWeight: 'bold'}));\n",
              "    li.append(span(\n",
              "        `(${file.type || 'n/a'}) - ${file.size} bytes, ` +\n",
              "        `last modified: ${\n",
              "            file.lastModifiedDate ? file.lastModifiedDate.toLocaleDateString() :\n",
              "                                    'n/a'} - `));\n",
              "    const percent = span('0% done');\n",
              "    li.appendChild(percent);\n",
              "\n",
              "    outputElement.appendChild(li);\n",
              "\n",
              "    const fileDataPromise = new Promise((resolve) => {\n",
              "      const reader = new FileReader();\n",
              "      reader.onload = (e) => {\n",
              "        resolve(e.target.result);\n",
              "      };\n",
              "      reader.readAsArrayBuffer(file);\n",
              "    });\n",
              "    // Wait for the data to be ready.\n",
              "    let fileData = yield {\n",
              "      promise: fileDataPromise,\n",
              "      response: {\n",
              "        action: 'continue',\n",
              "      }\n",
              "    };\n",
              "\n",
              "    // Use a chunked sending to avoid message size limits. See b/62115660.\n",
              "    let position = 0;\n",
              "    do {\n",
              "      const length = Math.min(fileData.byteLength - position, MAX_PAYLOAD_SIZE);\n",
              "      const chunk = new Uint8Array(fileData, position, length);\n",
              "      position += length;\n",
              "\n",
              "      const base64 = btoa(String.fromCharCode.apply(null, chunk));\n",
              "      yield {\n",
              "        response: {\n",
              "          action: 'append',\n",
              "          file: file.name,\n",
              "          data: base64,\n",
              "        },\n",
              "      };\n",
              "\n",
              "      let percentDone = fileData.byteLength === 0 ?\n",
              "          100 :\n",
              "          Math.round((position / fileData.byteLength) * 100);\n",
              "      percent.textContent = `${percentDone}% done`;\n",
              "\n",
              "    } while (position < fileData.byteLength);\n",
              "  }\n",
              "\n",
              "  // All done.\n",
              "  yield {\n",
              "    response: {\n",
              "      action: 'complete',\n",
              "    }\n",
              "  };\n",
              "}\n",
              "\n",
              "scope.google = scope.google || {};\n",
              "scope.google.colab = scope.google.colab || {};\n",
              "scope.google.colab._files = {\n",
              "  _uploadFiles,\n",
              "  _uploadFilesContinue,\n",
              "};\n",
              "})(self);\n",
              "</script> "
            ]
          },
          "metadata": {}
        },
        {
          "output_type": "stream",
          "name": "stdout",
          "text": [
            "Saving kaggle.json to kaggle.json\n"
          ]
        },
        {
          "output_type": "execute_result",
          "data": {
            "text/plain": [
              "{'kaggle.json': b'{\"username\":\"bohdanbogdan\",\"key\":\"efafdce72df67dd856188c35be93d761\"}'}"
            ]
          },
          "metadata": {},
          "execution_count": 6
        }
      ]
    },
    {
      "cell_type": "code",
      "source": [
        "!mkdir ~/.kaggle"
      ],
      "metadata": {
        "id": "NbvYtfjAu1EW"
      },
      "execution_count": 7,
      "outputs": []
    },
    {
      "cell_type": "code",
      "source": [
        "!cp kaggle.json ~/.kaggle/"
      ],
      "metadata": {
        "id": "GuQU2PBxvH6M"
      },
      "execution_count": 8,
      "outputs": []
    },
    {
      "cell_type": "code",
      "source": [
        "!chmod 600 ~/.kaggle/kaggle.json"
      ],
      "metadata": {
        "id": "J97FCZ32vLrH"
      },
      "execution_count": 9,
      "outputs": []
    },
    {
      "cell_type": "code",
      "source": [
        "!kaggle competitions download -c dogs-vs-cats"
      ],
      "metadata": {
        "colab": {
          "base_uri": "https://localhost:8080/"
        },
        "id": "msHaH0O0vP0b",
        "outputId": "e2db65e6-cbd9-43be-a452-be4b17482999"
      },
      "execution_count": 10,
      "outputs": [
        {
          "output_type": "stream",
          "name": "stdout",
          "text": [
            "Downloading dogs-vs-cats.zip to /content\n",
            " 99% 803M/812M [00:03<00:00, 210MB/s]\n",
            "100% 812M/812M [00:03<00:00, 234MB/s]\n"
          ]
        }
      ]
    },
    {
      "cell_type": "code",
      "source": [
        "!unzip -qq dogs-vs-cats.zip"
      ],
      "metadata": {
        "id": "x0DKx30DvVIQ"
      },
      "execution_count": 13,
      "outputs": []
    },
    {
      "cell_type": "code",
      "source": [
        "!unzip -qq train.zip"
      ],
      "metadata": {
        "id": "ZxH6QpCCvZLf"
      },
      "execution_count": 14,
      "outputs": []
    },
    {
      "cell_type": "code",
      "source": [
        "# Copying images to training, validation, and test directories: \n",
        "\n",
        "import os, shutil, pathlib\n",
        "  \n",
        "original_dir = pathlib.Path(\"train\")                          \n",
        "new_base_dir = pathlib.Path(\"cats_vs_dogs_small\")            \n",
        " \n",
        "def make_subset(subset_name, start_index, end_index):         \n",
        "    for category in (\"cat\", \"dog\"):\n",
        "        dir = new_base_dir / subset_name / category\n",
        "        os.makedirs(dir)\n",
        "        fnames = [f\"{category}.{i}.jpg\" \n",
        "                  for i in range(start_index, end_index)]\n",
        "        for fname in fnames:\n",
        "            shutil.copyfile(src=original_dir / fname,\n",
        "                            dst=dir / fname)\n",
        "  \n",
        "make_subset(\"train\", start_index=0, end_index=1000)           \n",
        "make_subset(\"validation\", start_index=1000, end_index=1500)   \n",
        "make_subset(\"test\", start_index=1500, end_index=2500)  "
      ],
      "metadata": {
        "id": "Bhq1_3GRvoW9"
      },
      "execution_count": 15,
      "outputs": []
    },
    {
      "cell_type": "code",
      "source": [
        "# Building the model: \n",
        "\n",
        "# Instantiating a small convnet for dogs vs. cats classification: \n",
        "\n",
        "from tensorflow import keras \n",
        "from tensorflow.keras import layers \n",
        "\n",
        "inputs = keras.Input(shape=(180, 180, 3))  # RGB images of size 180x180\n",
        "\n",
        "x = layers.Rescaling(1./255)(inputs) \n",
        "\n",
        "x = layers.Conv2D(filters=32, kernel_size=3, activation='relu')(x) \n",
        "x = layers.MaxPooling2D(pool_size=2)(x) \n",
        "x = layers.Conv2D(filters=64, kernel_size=3, activation='relu')(x)\n",
        "x = layers.MaxPooling2D(pool_size=2)(x)\n",
        "x = layers.Conv2D(filters=128, kernel_size=3, activation='relu')(x)\n",
        "x = layers.MaxPooling2D(pool_size=2)(x) \n",
        "x = layers.Conv2D(filters=256, kernel_size=3, activation='relu')(x)\n",
        "x = layers.MaxPooling2D(pool_size=2)(x)\n",
        "x = layers.Conv2D(filters=256, kernel_size=3, activation='relu')(x)\n",
        "\n",
        "x = layers.Flatten()(x) \n",
        "\n",
        "outputs = layers.Dense(1, activation='sigmoid')(x)\n",
        "\n",
        "model = keras.Model(inputs=inputs, outputs=outputs) "
      ],
      "metadata": {
        "id": "mC0vFLyTwCvo"
      },
      "execution_count": 17,
      "outputs": []
    },
    {
      "cell_type": "code",
      "source": [
        "# Configuring the model for training: \n",
        "\n",
        "model.compile(optimizer='rmsprop', \n",
        "              loss='binary_crossentropy', \n",
        "              metrics=['accuracy']) "
      ],
      "metadata": {
        "id": "DMszso_Txxxy"
      },
      "execution_count": 18,
      "outputs": []
    },
    {
      "cell_type": "code",
      "source": [
        "# Data preprocesing: \n",
        "\n",
        "# using image_dataset_from_directory to read images: \n",
        "\n",
        "from tensorflow.keras.utils import image_dataset_from_directory \n",
        "\n",
        "train_dataset = image_dataset_from_directory( \n",
        "    new_base_dir / 'train', \n",
        "    image_size=(180, 180),\n",
        "    batch_size=32\n",
        ")\n",
        "\n",
        "validation_dataset = image_dataset_from_directory( \n",
        "    new_base_dir / 'validation', \n",
        "    image_size=(180, 180), \n",
        "    batch_size=32\n",
        ")\n",
        "\n",
        "test_dataset = image_dataset_from_directory( \n",
        "    new_base_dir / 'test', \n",
        "    image_size=(180, 180),\n",
        "    batch_size=32\n",
        ")"
      ],
      "metadata": {
        "colab": {
          "base_uri": "https://localhost:8080/"
        },
        "id": "CRR4_pKpyLKM",
        "outputId": "8d4310d7-a941-44b1-b45f-a963a64450e6"
      },
      "execution_count": 20,
      "outputs": [
        {
          "output_type": "stream",
          "name": "stdout",
          "text": [
            "Found 2000 files belonging to 2 classes.\n",
            "Found 1000 files belonging to 2 classes.\n",
            "Found 2000 files belonging to 2 classes.\n"
          ]
        }
      ]
    },
    {
      "cell_type": "code",
      "source": [
        "# Displaying the shapes of the data and labels yielding by the Dataset: \n",
        "\n",
        "for data_batch, labels_batch in train_dataset: \n",
        "  print('data batch shape:', data_batch.shape)\n",
        "  print('labels batch shape: ', labels_batch.shape)\n",
        "  break "
      ],
      "metadata": {
        "colab": {
          "base_uri": "https://localhost:8080/"
        },
        "id": "1yEBtEF_zTRt",
        "outputId": "bbbf0ee9-2bcf-436e-e15a-9e90d3411775"
      },
      "execution_count": 21,
      "outputs": [
        {
          "output_type": "stream",
          "name": "stdout",
          "text": [
            "data batch shape: (32, 180, 180, 3)\n",
            "labels batch shape:  (32,)\n"
          ]
        }
      ]
    },
    {
      "cell_type": "code",
      "source": [
        "# Fitting the model using a Dataset: \n",
        "\n",
        "callbacks = [ \n",
        "    keras.callbacks.ModelCheckpoint( \n",
        "        filepath='convnet_from_scratch.keras',\n",
        "        save_best_only=True,\n",
        "        monitor='val_loss'\n",
        "    )\n",
        "]\n",
        "\n",
        "history = model.fit( \n",
        "    train_dataset, \n",
        "    epochs=30, validation_data=validation_dataset, \n",
        "    callbacks=callbacks\n",
        ")"
      ],
      "metadata": {
        "colab": {
          "base_uri": "https://localhost:8080/"
        },
        "id": "7aUg53hs0hCN",
        "outputId": "2fe37e93-c386-4952-b236-e60cf7989a66"
      },
      "execution_count": 22,
      "outputs": [
        {
          "output_type": "stream",
          "name": "stdout",
          "text": [
            "Epoch 1/30\n",
            "63/63 [==============================] - 8s 88ms/step - loss: 0.8088 - accuracy: 0.5355 - val_loss: 0.6766 - val_accuracy: 0.5740\n",
            "Epoch 2/30\n",
            "63/63 [==============================] - 5s 76ms/step - loss: 0.6871 - accuracy: 0.5755 - val_loss: 0.6980 - val_accuracy: 0.5220\n",
            "Epoch 3/30\n",
            "63/63 [==============================] - 5s 77ms/step - loss: 0.6539 - accuracy: 0.6125 - val_loss: 0.7047 - val_accuracy: 0.5940\n",
            "Epoch 4/30\n",
            "63/63 [==============================] - 5s 79ms/step - loss: 0.6275 - accuracy: 0.6620 - val_loss: 0.5964 - val_accuracy: 0.6700\n",
            "Epoch 5/30\n",
            "63/63 [==============================] - 5s 78ms/step - loss: 0.5715 - accuracy: 0.7045 - val_loss: 0.5883 - val_accuracy: 0.7000\n",
            "Epoch 6/30\n",
            "63/63 [==============================] - 5s 77ms/step - loss: 0.5464 - accuracy: 0.7240 - val_loss: 0.6214 - val_accuracy: 0.6800\n",
            "Epoch 7/30\n",
            "63/63 [==============================] - 6s 85ms/step - loss: 0.4956 - accuracy: 0.7565 - val_loss: 0.5715 - val_accuracy: 0.7240\n",
            "Epoch 8/30\n",
            "63/63 [==============================] - 5s 77ms/step - loss: 0.4677 - accuracy: 0.7730 - val_loss: 0.5909 - val_accuracy: 0.6890\n",
            "Epoch 9/30\n",
            "63/63 [==============================] - 5s 80ms/step - loss: 0.4164 - accuracy: 0.8120 - val_loss: 0.7674 - val_accuracy: 0.6730\n",
            "Epoch 10/30\n",
            "63/63 [==============================] - 5s 77ms/step - loss: 0.3678 - accuracy: 0.8335 - val_loss: 0.6341 - val_accuracy: 0.7120\n",
            "Epoch 11/30\n",
            "63/63 [==============================] - 5s 78ms/step - loss: 0.3142 - accuracy: 0.8680 - val_loss: 0.6777 - val_accuracy: 0.7210\n",
            "Epoch 12/30\n",
            "63/63 [==============================] - 5s 79ms/step - loss: 0.2560 - accuracy: 0.8910 - val_loss: 0.7109 - val_accuracy: 0.7300\n",
            "Epoch 13/30\n",
            "63/63 [==============================] - 5s 78ms/step - loss: 0.2239 - accuracy: 0.9120 - val_loss: 0.6983 - val_accuracy: 0.7470\n",
            "Epoch 14/30\n",
            "63/63 [==============================] - 5s 77ms/step - loss: 0.1730 - accuracy: 0.9300 - val_loss: 0.8682 - val_accuracy: 0.7280\n",
            "Epoch 15/30\n",
            "63/63 [==============================] - 5s 77ms/step - loss: 0.1504 - accuracy: 0.9500 - val_loss: 1.0252 - val_accuracy: 0.7290\n",
            "Epoch 16/30\n",
            "63/63 [==============================] - 5s 77ms/step - loss: 0.1129 - accuracy: 0.9615 - val_loss: 1.0840 - val_accuracy: 0.7250\n",
            "Epoch 17/30\n",
            "63/63 [==============================] - 5s 77ms/step - loss: 0.1070 - accuracy: 0.9610 - val_loss: 1.2426 - val_accuracy: 0.7090\n",
            "Epoch 18/30\n",
            "63/63 [==============================] - 5s 77ms/step - loss: 0.0866 - accuracy: 0.9730 - val_loss: 1.3852 - val_accuracy: 0.7330\n",
            "Epoch 19/30\n",
            "63/63 [==============================] - 5s 77ms/step - loss: 0.0826 - accuracy: 0.9705 - val_loss: 1.2369 - val_accuracy: 0.7420\n",
            "Epoch 20/30\n",
            "63/63 [==============================] - 5s 77ms/step - loss: 0.0725 - accuracy: 0.9740 - val_loss: 1.3632 - val_accuracy: 0.7450\n",
            "Epoch 21/30\n",
            "63/63 [==============================] - 5s 78ms/step - loss: 0.0526 - accuracy: 0.9835 - val_loss: 2.7079 - val_accuracy: 0.6750\n",
            "Epoch 22/30\n",
            "63/63 [==============================] - 5s 78ms/step - loss: 0.0541 - accuracy: 0.9825 - val_loss: 1.5685 - val_accuracy: 0.7130\n",
            "Epoch 23/30\n",
            "63/63 [==============================] - 5s 78ms/step - loss: 0.1018 - accuracy: 0.9765 - val_loss: 1.5546 - val_accuracy: 0.7130\n",
            "Epoch 24/30\n",
            "63/63 [==============================] - 5s 79ms/step - loss: 0.0446 - accuracy: 0.9885 - val_loss: 1.7600 - val_accuracy: 0.7390\n",
            "Epoch 25/30\n",
            "63/63 [==============================] - 5s 78ms/step - loss: 0.0613 - accuracy: 0.9805 - val_loss: 1.8913 - val_accuracy: 0.7410\n",
            "Epoch 26/30\n",
            "63/63 [==============================] - 5s 78ms/step - loss: 0.0553 - accuracy: 0.9860 - val_loss: 2.1744 - val_accuracy: 0.7230\n",
            "Epoch 27/30\n",
            "63/63 [==============================] - 5s 77ms/step - loss: 0.0457 - accuracy: 0.9850 - val_loss: 2.3921 - val_accuracy: 0.7080\n",
            "Epoch 28/30\n",
            "63/63 [==============================] - 5s 78ms/step - loss: 0.0258 - accuracy: 0.9935 - val_loss: 2.5845 - val_accuracy: 0.7220\n",
            "Epoch 29/30\n",
            "63/63 [==============================] - 5s 78ms/step - loss: 0.0875 - accuracy: 0.9800 - val_loss: 2.2824 - val_accuracy: 0.7310\n",
            "Epoch 30/30\n",
            "63/63 [==============================] - 5s 78ms/step - loss: 0.0719 - accuracy: 0.9800 - val_loss: 1.9356 - val_accuracy: 0.7340\n"
          ]
        }
      ]
    },
    {
      "cell_type": "code",
      "source": [
        "# Evaluating the model on the test set: \n",
        "\n",
        "test_model = keras.models.load_model('convnet_from_scratch.keras')\n",
        "test_loss, test_acc = test_model.evaluate(test_dataset)\n",
        "\n",
        "print(f\"Test accuracy: {test_acc:.3f}\")"
      ],
      "metadata": {
        "colab": {
          "base_uri": "https://localhost:8080/"
        },
        "id": "XlQbqLGD1KA-",
        "outputId": "fa07c068-b4be-49fb-b852-0550a097594e"
      },
      "execution_count": 23,
      "outputs": [
        {
          "output_type": "stream",
          "name": "stdout",
          "text": [
            "63/63 [==============================] - 3s 42ms/step - loss: 0.6100 - accuracy: 0.6995\n",
            "Test accuracy: 0.700\n"
          ]
        }
      ]
    },
    {
      "cell_type": "markdown",
      "source": [
        "### Leveraging a pretrained model: "
      ],
      "metadata": {
        "id": "sGClAq_H2vDY"
      }
    },
    {
      "cell_type": "code",
      "source": [
        "# Feature extraction with a pretrained model: \n",
        "\n",
        "# Instantiating the VGG16 convolutional base: \n",
        "\n",
        "conv_base = keras.applications.vgg16.VGG16( \n",
        "    weights='imagenet',\n",
        "    include_top=False,\n",
        "    input_shape=(180, 180, 3)\n",
        ")"
      ],
      "metadata": {
        "colab": {
          "base_uri": "https://localhost:8080/"
        },
        "id": "Ha_Ry5gN4b9t",
        "outputId": "b764a023-d057-4b31-f574-e9ad97fde64a"
      },
      "execution_count": 25,
      "outputs": [
        {
          "output_type": "stream",
          "name": "stdout",
          "text": [
            "Downloading data from https://storage.googleapis.com/tensorflow/keras-applications/vgg16/vgg16_weights_tf_dim_ordering_tf_kernels_notop.h5\n",
            "58889256/58889256 [==============================] - 0s 0us/step\n"
          ]
        }
      ]
    },
    {
      "cell_type": "code",
      "source": [
        "conv_base.summary()"
      ],
      "metadata": {
        "colab": {
          "base_uri": "https://localhost:8080/"
        },
        "id": "62_Dvs334_MA",
        "outputId": "98596988-40b6-4a24-f176-dc0be853670e"
      },
      "execution_count": 26,
      "outputs": [
        {
          "output_type": "stream",
          "name": "stdout",
          "text": [
            "Model: \"vgg16\"\n",
            "_________________________________________________________________\n",
            " Layer (type)                Output Shape              Param #   \n",
            "=================================================================\n",
            " input_4 (InputLayer)        [(None, 180, 180, 3)]     0         \n",
            "                                                                 \n",
            " block1_conv1 (Conv2D)       (None, 180, 180, 64)      1792      \n",
            "                                                                 \n",
            " block1_conv2 (Conv2D)       (None, 180, 180, 64)      36928     \n",
            "                                                                 \n",
            " block1_pool (MaxPooling2D)  (None, 90, 90, 64)        0         \n",
            "                                                                 \n",
            " block2_conv1 (Conv2D)       (None, 90, 90, 128)       73856     \n",
            "                                                                 \n",
            " block2_conv2 (Conv2D)       (None, 90, 90, 128)       147584    \n",
            "                                                                 \n",
            " block2_pool (MaxPooling2D)  (None, 45, 45, 128)       0         \n",
            "                                                                 \n",
            " block3_conv1 (Conv2D)       (None, 45, 45, 256)       295168    \n",
            "                                                                 \n",
            " block3_conv2 (Conv2D)       (None, 45, 45, 256)       590080    \n",
            "                                                                 \n",
            " block3_conv3 (Conv2D)       (None, 45, 45, 256)       590080    \n",
            "                                                                 \n",
            " block3_pool (MaxPooling2D)  (None, 22, 22, 256)       0         \n",
            "                                                                 \n",
            " block4_conv1 (Conv2D)       (None, 22, 22, 512)       1180160   \n",
            "                                                                 \n",
            " block4_conv2 (Conv2D)       (None, 22, 22, 512)       2359808   \n",
            "                                                                 \n",
            " block4_conv3 (Conv2D)       (None, 22, 22, 512)       2359808   \n",
            "                                                                 \n",
            " block4_pool (MaxPooling2D)  (None, 11, 11, 512)       0         \n",
            "                                                                 \n",
            " block5_conv1 (Conv2D)       (None, 11, 11, 512)       2359808   \n",
            "                                                                 \n",
            " block5_conv2 (Conv2D)       (None, 11, 11, 512)       2359808   \n",
            "                                                                 \n",
            " block5_conv3 (Conv2D)       (None, 11, 11, 512)       2359808   \n",
            "                                                                 \n",
            " block5_pool (MaxPooling2D)  (None, 5, 5, 512)         0         \n",
            "                                                                 \n",
            "=================================================================\n",
            "Total params: 14,714,688\n",
            "Trainable params: 14,714,688\n",
            "Non-trainable params: 0\n",
            "_________________________________________________________________\n"
          ]
        }
      ]
    },
    {
      "cell_type": "code",
      "source": [
        "\n",
        "# Extracting the VGG16 feature and corresponding labels: \n",
        "\n",
        "import numpy as np \n",
        "\n",
        "def get_features_and_labels(dataset):\n",
        "  all_features = []\n",
        "  all_labels = [] \n",
        "  for images, labels in dataset: \n",
        "    preprocessed_images = keras.applications.vgg16.preprocess_input(images) \n",
        "    features = conv_base.predict(preprocessed_images)\n",
        "    all_features.append(features)\n",
        "    all_labels.append(labels)\n",
        "  return np.concatenate(all_features), np.concatenate(all_labels) \n",
        "\n",
        "train_features, train_labels = get_features_and_labels(train_dataset) \n",
        "val_features, val_labels = get_features_and_labels(validation_dataset) \n",
        "test_features, test_labels = get_features_and_labels(test_dataset) "
      ],
      "metadata": {
        "colab": {
          "base_uri": "https://localhost:8080/"
        },
        "id": "Rn9CaH6n2yMM",
        "outputId": "41bc2127-4f82-4fd5-d50f-a7d5279d0d5d"
      },
      "execution_count": 27,
      "outputs": [
        {
          "output_type": "stream",
          "name": "stdout",
          "text": [
            "1/1 [==============================] - 2s 2s/step\n",
            "1/1 [==============================] - 0s 29ms/step\n",
            "1/1 [==============================] - 0s 28ms/step\n",
            "1/1 [==============================] - 0s 30ms/step\n",
            "1/1 [==============================] - 0s 28ms/step\n",
            "1/1 [==============================] - 0s 24ms/step\n",
            "1/1 [==============================] - 0s 27ms/step\n",
            "1/1 [==============================] - 0s 32ms/step\n",
            "1/1 [==============================] - 0s 32ms/step\n",
            "1/1 [==============================] - 0s 30ms/step\n",
            "1/1 [==============================] - 0s 35ms/step\n",
            "1/1 [==============================] - 0s 41ms/step\n",
            "1/1 [==============================] - 0s 29ms/step\n",
            "1/1 [==============================] - 0s 36ms/step\n",
            "1/1 [==============================] - 0s 31ms/step\n",
            "1/1 [==============================] - 0s 24ms/step\n",
            "1/1 [==============================] - 0s 24ms/step\n",
            "1/1 [==============================] - 0s 24ms/step\n",
            "1/1 [==============================] - 0s 25ms/step\n",
            "1/1 [==============================] - 0s 27ms/step\n",
            "1/1 [==============================] - 0s 24ms/step\n",
            "1/1 [==============================] - 0s 24ms/step\n",
            "1/1 [==============================] - 0s 24ms/step\n",
            "1/1 [==============================] - 0s 29ms/step\n",
            "1/1 [==============================] - 0s 31ms/step\n",
            "1/1 [==============================] - 0s 31ms/step\n",
            "1/1 [==============================] - 0s 24ms/step\n",
            "1/1 [==============================] - 0s 27ms/step\n",
            "1/1 [==============================] - 0s 24ms/step\n",
            "1/1 [==============================] - 0s 24ms/step\n",
            "1/1 [==============================] - 0s 24ms/step\n",
            "1/1 [==============================] - 0s 24ms/step\n",
            "1/1 [==============================] - 0s 37ms/step\n",
            "1/1 [==============================] - 0s 27ms/step\n",
            "1/1 [==============================] - 0s 26ms/step\n",
            "1/1 [==============================] - 0s 28ms/step\n",
            "1/1 [==============================] - 0s 28ms/step\n",
            "1/1 [==============================] - 0s 31ms/step\n",
            "1/1 [==============================] - 0s 25ms/step\n",
            "1/1 [==============================] - 0s 27ms/step\n",
            "1/1 [==============================] - 0s 30ms/step\n",
            "1/1 [==============================] - 0s 24ms/step\n",
            "1/1 [==============================] - 0s 28ms/step\n",
            "1/1 [==============================] - 0s 31ms/step\n",
            "1/1 [==============================] - 0s 24ms/step\n",
            "1/1 [==============================] - 0s 31ms/step\n",
            "1/1 [==============================] - 0s 29ms/step\n",
            "1/1 [==============================] - 0s 27ms/step\n",
            "1/1 [==============================] - 0s 23ms/step\n",
            "1/1 [==============================] - 0s 24ms/step\n",
            "1/1 [==============================] - 0s 25ms/step\n",
            "1/1 [==============================] - 0s 25ms/step\n",
            "1/1 [==============================] - 0s 24ms/step\n",
            "1/1 [==============================] - 0s 23ms/step\n",
            "1/1 [==============================] - 0s 23ms/step\n",
            "1/1 [==============================] - 0s 24ms/step\n",
            "1/1 [==============================] - 0s 25ms/step\n",
            "1/1 [==============================] - 0s 31ms/step\n",
            "1/1 [==============================] - 0s 29ms/step\n",
            "1/1 [==============================] - 0s 23ms/step\n",
            "1/1 [==============================] - 0s 23ms/step\n",
            "1/1 [==============================] - 0s 26ms/step\n",
            "1/1 [==============================] - 1s 1s/step\n",
            "1/1 [==============================] - 0s 24ms/step\n",
            "1/1 [==============================] - 0s 24ms/step\n",
            "1/1 [==============================] - 0s 23ms/step\n",
            "1/1 [==============================] - 0s 44ms/step\n",
            "1/1 [==============================] - 0s 23ms/step\n",
            "1/1 [==============================] - 0s 26ms/step\n",
            "1/1 [==============================] - 0s 29ms/step\n",
            "1/1 [==============================] - 0s 26ms/step\n",
            "1/1 [==============================] - 0s 29ms/step\n",
            "1/1 [==============================] - 0s 29ms/step\n",
            "1/1 [==============================] - 0s 27ms/step\n",
            "1/1 [==============================] - 0s 25ms/step\n",
            "1/1 [==============================] - 0s 27ms/step\n",
            "1/1 [==============================] - 0s 26ms/step\n",
            "1/1 [==============================] - 0s 24ms/step\n",
            "1/1 [==============================] - 0s 32ms/step\n",
            "1/1 [==============================] - 0s 26ms/step\n",
            "1/1 [==============================] - 0s 24ms/step\n",
            "1/1 [==============================] - 0s 27ms/step\n",
            "1/1 [==============================] - 0s 30ms/step\n",
            "1/1 [==============================] - 0s 24ms/step\n",
            "1/1 [==============================] - 0s 26ms/step\n",
            "1/1 [==============================] - 0s 29ms/step\n",
            "1/1 [==============================] - 0s 25ms/step\n",
            "1/1 [==============================] - 0s 24ms/step\n",
            "1/1 [==============================] - 0s 24ms/step\n",
            "1/1 [==============================] - 0s 28ms/step\n",
            "1/1 [==============================] - 0s 25ms/step\n",
            "1/1 [==============================] - 0s 25ms/step\n",
            "1/1 [==============================] - 0s 23ms/step\n",
            "1/1 [==============================] - 0s 24ms/step\n",
            "1/1 [==============================] - 1s 837ms/step\n",
            "1/1 [==============================] - 0s 26ms/step\n",
            "1/1 [==============================] - 0s 25ms/step\n",
            "1/1 [==============================] - 0s 29ms/step\n",
            "1/1 [==============================] - 0s 31ms/step\n",
            "1/1 [==============================] - 0s 29ms/step\n",
            "1/1 [==============================] - 0s 24ms/step\n",
            "1/1 [==============================] - 0s 24ms/step\n",
            "1/1 [==============================] - 0s 27ms/step\n",
            "1/1 [==============================] - 0s 25ms/step\n",
            "1/1 [==============================] - 0s 92ms/step\n",
            "1/1 [==============================] - 0s 24ms/step\n",
            "1/1 [==============================] - 0s 26ms/step\n",
            "1/1 [==============================] - 0s 29ms/step\n",
            "1/1 [==============================] - 0s 70ms/step\n",
            "1/1 [==============================] - 0s 25ms/step\n",
            "1/1 [==============================] - 0s 31ms/step\n",
            "1/1 [==============================] - 0s 29ms/step\n",
            "1/1 [==============================] - 0s 104ms/step\n",
            "1/1 [==============================] - 0s 23ms/step\n",
            "1/1 [==============================] - 0s 24ms/step\n",
            "1/1 [==============================] - 0s 24ms/step\n",
            "1/1 [==============================] - 0s 25ms/step\n",
            "1/1 [==============================] - 0s 25ms/step\n",
            "1/1 [==============================] - 0s 27ms/step\n",
            "1/1 [==============================] - 0s 28ms/step\n",
            "1/1 [==============================] - 0s 25ms/step\n",
            "1/1 [==============================] - 0s 26ms/step\n",
            "1/1 [==============================] - 0s 37ms/step\n",
            "1/1 [==============================] - 0s 24ms/step\n",
            "1/1 [==============================] - 0s 26ms/step\n",
            "1/1 [==============================] - 0s 23ms/step\n",
            "1/1 [==============================] - 0s 30ms/step\n",
            "1/1 [==============================] - 0s 28ms/step\n",
            "1/1 [==============================] - 0s 31ms/step\n",
            "1/1 [==============================] - 0s 32ms/step\n",
            "1/1 [==============================] - 0s 26ms/step\n",
            "1/1 [==============================] - 0s 27ms/step\n",
            "1/1 [==============================] - 0s 28ms/step\n",
            "1/1 [==============================] - 0s 32ms/step\n",
            "1/1 [==============================] - 0s 27ms/step\n",
            "1/1 [==============================] - 0s 32ms/step\n",
            "1/1 [==============================] - 0s 26ms/step\n",
            "1/1 [==============================] - 0s 28ms/step\n",
            "1/1 [==============================] - 0s 24ms/step\n",
            "1/1 [==============================] - 0s 23ms/step\n",
            "1/1 [==============================] - 0s 28ms/step\n",
            "1/1 [==============================] - 0s 30ms/step\n",
            "1/1 [==============================] - 0s 25ms/step\n",
            "1/1 [==============================] - 0s 27ms/step\n",
            "1/1 [==============================] - 0s 27ms/step\n",
            "1/1 [==============================] - 0s 32ms/step\n",
            "1/1 [==============================] - 0s 32ms/step\n",
            "1/1 [==============================] - 0s 27ms/step\n",
            "1/1 [==============================] - 0s 25ms/step\n",
            "1/1 [==============================] - 0s 25ms/step\n",
            "1/1 [==============================] - 0s 26ms/step\n",
            "1/1 [==============================] - 0s 29ms/step\n",
            "1/1 [==============================] - 0s 25ms/step\n",
            "1/1 [==============================] - 0s 27ms/step\n",
            "1/1 [==============================] - 0s 31ms/step\n",
            "1/1 [==============================] - 0s 30ms/step\n",
            "1/1 [==============================] - 0s 24ms/step\n",
            "1/1 [==============================] - 0s 24ms/step\n"
          ]
        }
      ]
    },
    {
      "cell_type": "code",
      "source": [
        "train_features.shape"
      ],
      "metadata": {
        "colab": {
          "base_uri": "https://localhost:8080/"
        },
        "id": "pnCjZ1uV3aM-",
        "outputId": "38a542a9-08d9-4e6b-fc1c-cecbf1b813bb"
      },
      "execution_count": 28,
      "outputs": [
        {
          "output_type": "execute_result",
          "data": {
            "text/plain": [
              "(2000, 5, 5, 512)"
            ]
          },
          "metadata": {},
          "execution_count": 28
        }
      ]
    },
    {
      "cell_type": "code",
      "source": [
        "# Defining and training the densely connected classifier: \n",
        "\n",
        "inputs = keras.Input(shape=(5, 5, 512)) \n",
        "\n",
        "x = layers.Flatten()(inputs) \n",
        "x = layers.Dense(256)(x) \n",
        "x = layers.Dropout(0.5)(x) \n",
        "\n",
        "outputs = layers.Dense(1, activation='sigmoid')(x) \n",
        "\n",
        "model.compile(optimizer='rmsprop', \n",
        "              loss='binary_crossentropy',\n",
        "              metrics=['accuracy'])\n",
        "\n",
        "callbacks = [ \n",
        "    keras.callbacks.ModelCheckpoint( \n",
        "        filepath = 'feature_extraction.keras', \n",
        "        save_best_only=True, \n",
        "        monitor='val_loss'\n",
        "    )\n",
        "]\n",
        "\n",
        "history = model.fit( \n",
        "    train_features, train_labels, \n",
        "    epochs=20, \n",
        "    validation_data=(val_features, val_labels),\n",
        "    callbacks=callbacks\n",
        ") "
      ],
      "metadata": {
        "id": "lPFrP6tb50TG"
      },
      "execution_count": null,
      "outputs": []
    },
    {
      "cell_type": "code",
      "source": [
        "inputs = keras.Input(shape=(5, 5, 512))\n",
        "x = layers.Flatten()(inputs)               \n",
        "x = layers.Dense(256)(x)\n",
        "x = layers.Dropout(0.5)(x)\n",
        "outputs = layers.Dense(1, activation=\"sigmoid\")(x)\n",
        "model = keras.Model(inputs, outputs)\n",
        "model.compile(loss=\"binary_crossentropy\",\n",
        "              optimizer=\"rmsprop\",\n",
        "              metrics=[\"accuracy\"])\n",
        "  \n",
        "callbacks = [\n",
        "    keras.callbacks.ModelCheckpoint(\n",
        "        filepath=\"feature_extraction.keras\",\n",
        "        save_best_only=True,\n",
        "        monitor=\"val_loss\")\n",
        "]\n",
        "history = model.fit(\n",
        "    train_features, train_labels,\n",
        "    epochs=20,\n",
        "    validation_data=(val_features, val_labels),\n",
        "    callbacks=callbacks)"
      ],
      "metadata": {
        "colab": {
          "base_uri": "https://localhost:8080/"
        },
        "id": "71JqsanB7Bot",
        "outputId": "1eaddfeb-b0fa-4385-e3ef-9370926511a4"
      },
      "execution_count": 30,
      "outputs": [
        {
          "output_type": "stream",
          "name": "stdout",
          "text": [
            "Epoch 1/20\n",
            "63/63 [==============================] - 1s 11ms/step - loss: 19.9963 - accuracy: 0.9190 - val_loss: 3.4831 - val_accuracy: 0.9660\n",
            "Epoch 2/20\n",
            "63/63 [==============================] - 0s 8ms/step - loss: 2.7682 - accuracy: 0.9795 - val_loss: 4.2325 - val_accuracy: 0.9700\n",
            "Epoch 3/20\n",
            "63/63 [==============================] - 0s 7ms/step - loss: 2.7761 - accuracy: 0.9785 - val_loss: 5.8087 - val_accuracy: 0.9720\n",
            "Epoch 4/20\n",
            "63/63 [==============================] - 0s 8ms/step - loss: 1.3342 - accuracy: 0.9930 - val_loss: 5.9632 - val_accuracy: 0.9650\n",
            "Epoch 5/20\n",
            "63/63 [==============================] - 0s 8ms/step - loss: 1.3844 - accuracy: 0.9885 - val_loss: 7.7188 - val_accuracy: 0.9630\n",
            "Epoch 6/20\n",
            "63/63 [==============================] - 0s 8ms/step - loss: 0.8904 - accuracy: 0.9905 - val_loss: 5.2355 - val_accuracy: 0.9740\n",
            "Epoch 7/20\n",
            "63/63 [==============================] - 0s 8ms/step - loss: 0.6840 - accuracy: 0.9955 - val_loss: 5.5910 - val_accuracy: 0.9720\n",
            "Epoch 8/20\n",
            "63/63 [==============================] - 0s 8ms/step - loss: 0.2597 - accuracy: 0.9985 - val_loss: 7.5308 - val_accuracy: 0.9600\n",
            "Epoch 9/20\n",
            "63/63 [==============================] - 0s 7ms/step - loss: 0.7826 - accuracy: 0.9945 - val_loss: 4.9246 - val_accuracy: 0.9750\n",
            "Epoch 10/20\n",
            "63/63 [==============================] - 0s 7ms/step - loss: 0.1087 - accuracy: 0.9985 - val_loss: 8.2803 - val_accuracy: 0.9700\n",
            "Epoch 11/20\n",
            "63/63 [==============================] - 0s 7ms/step - loss: 0.2310 - accuracy: 0.9985 - val_loss: 5.9063 - val_accuracy: 0.9730\n",
            "Epoch 12/20\n",
            "63/63 [==============================] - 0s 7ms/step - loss: 0.0068 - accuracy: 0.9990 - val_loss: 6.2743 - val_accuracy: 0.9710\n",
            "Epoch 13/20\n",
            "63/63 [==============================] - 0s 7ms/step - loss: 0.0059 - accuracy: 0.9995 - val_loss: 6.9898 - val_accuracy: 0.9690\n",
            "Epoch 14/20\n",
            "63/63 [==============================] - 0s 7ms/step - loss: 0.3600 - accuracy: 0.9980 - val_loss: 7.5119 - val_accuracy: 0.9670\n",
            "Epoch 15/20\n",
            "63/63 [==============================] - 0s 6ms/step - loss: 0.2928 - accuracy: 0.9975 - val_loss: 6.1428 - val_accuracy: 0.9720\n",
            "Epoch 16/20\n",
            "63/63 [==============================] - 1s 8ms/step - loss: 0.2790 - accuracy: 0.9980 - val_loss: 7.4326 - val_accuracy: 0.9730\n",
            "Epoch 17/20\n",
            "63/63 [==============================] - 0s 7ms/step - loss: 0.1285 - accuracy: 0.9985 - val_loss: 6.5535 - val_accuracy: 0.9730\n",
            "Epoch 18/20\n",
            "63/63 [==============================] - 1s 8ms/step - loss: 0.1714 - accuracy: 0.9985 - val_loss: 6.0416 - val_accuracy: 0.9730\n",
            "Epoch 19/20\n",
            "63/63 [==============================] - 0s 8ms/step - loss: 0.1086 - accuracy: 0.9995 - val_loss: 5.3079 - val_accuracy: 0.9760\n",
            "Epoch 20/20\n",
            "63/63 [==============================] - 0s 7ms/step - loss: 0.0231 - accuracy: 0.9990 - val_loss: 4.5428 - val_accuracy: 0.9780\n"
          ]
        }
      ]
    },
    {
      "cell_type": "code",
      "source": [
        "# Plotting the results: \n",
        "\n",
        "import matplotlib.pyplot as plt\n",
        "\n",
        "acc = history.history[\"accuracy\"]\n",
        "val_acc = history.history[\"val_accuracy\"]\n",
        "loss = history.history[\"loss\"]\n",
        "val_loss = history.history[\"val_loss\"]\n",
        "epochs = range(1, len(acc) + 1)\n",
        "plt.plot(epochs, acc, \"bo\", label=\"Training accuracy\")\n",
        "plt.plot(epochs, val_acc, \"b\", label=\"Validation accuracy\")\n",
        "plt.title(\"Training and validation accuracy\")\n",
        "plt.legend()\n",
        "plt.figure()\n",
        "plt.plot(epochs, loss, \"bo\", label=\"Training loss\")\n",
        "plt.plot(epochs, val_loss, \"b\", label=\"Validation loss\")\n",
        "plt.title(\"Training and validation loss\")\n",
        "plt.legend()\n",
        "plt.show()"
      ],
      "metadata": {
        "colab": {
          "base_uri": "https://localhost:8080/",
          "height": 545
        },
        "id": "_zMduiuh7m99",
        "outputId": "0428ebcf-219a-4294-d927-acc26a2eab1a"
      },
      "execution_count": 31,
      "outputs": [
        {
          "output_type": "display_data",
          "data": {
            "text/plain": [
              "<Figure size 432x288 with 1 Axes>"
            ],
            "image/png": "[encoded data removed]"
          },
          "metadata": {
            "needs_background": "light"
          }
        },
        {
          "output_type": "display_data",
          "data": {
            "text/plain": [
              "<Figure size 432x288 with 1 Axes>"
            ],
            "image/png": "[encoded data removed]"
          },
          "metadata": {
            "needs_background": "light"
          }
        }
      ]
    },
    {
      "cell_type": "code",
      "source": [],
      "metadata": {
        "id": "-LB5xHwG7_NF"
      },
      "execution_count": null,
      "outputs": []
    }
  ]
}