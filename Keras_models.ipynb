{
  "nbformat": 4,
  "nbformat_minor": 0,
  "metadata": {
    "colab": {
      "provenance": [],
      "authorship_tag": "ABX9TyMGpSrYGtvdwWiWlOI83qzV",
      "include_colab_link": true
    },
    "kernelspec": {
      "name": "python3",
      "display_name": "Python 3"
    },
    "language_info": {
      "name": "python"
    }
  },
  "cells": [
    {
      "cell_type": "markdown",
      "metadata": {
        "id": "view-in-github",
        "colab_type": "text"
      },
      "source": [
        "<a href=\"https://colab.research.google.com/github/Bohdan-at-Kulinich/Machine-Learning/blob/main/Keras_models.ipynb\" target=\"_parent\"><img src=\"https://colab.research.google.com/assets/colab-badge.svg\" alt=\"Open In Colab\"/></a>"
      ]
    },
    {
      "cell_type": "markdown",
      "source": [
        "###  The sequential model "
      ],
      "metadata": {
        "id": "ozaIlm4JpF2o"
      }
    },
    {
      "cell_type": "code",
      "source": [
        "# The Sequential class:\n",
        "\n",
        "from tensorflow import keras\n",
        "from tensorflow.keras import layers \n",
        "\n",
        "model = keras.Sequential([ \n",
        "    layers.Dense(64, activation='relu'),\n",
        "    layers.Dense(10, activation='softmax')\n",
        "])"
      ],
      "metadata": {
        "id": "kaWibS4epI5c"
      },
      "execution_count": 1,
      "outputs": []
    },
    {
      "cell_type": "code",
      "source": [
        "# Incrementally building a Sequential model:\n",
        "\n",
        "medel = keras.Sequential()\n",
        "model.add(layers.Dense(64, activation='relu'))\n",
        "model.add(layers.Dense(10, activation='softmax'))\n"
      ],
      "metadata": {
        "id": "kNOR7RAbphU3"
      },
      "execution_count": 3,
      "outputs": []
    },
    {
      "cell_type": "code",
      "source": [
        "# Calling a model for the first time to bouid it. \n",
        "\n",
        "#This Sequential model does not have any weights until we actually call it on some data,\n",
        "# or call its build() method with an input shape:\n",
        "\n",
        "# model expects samples of shape(3, ). The None signals that the batch size could be anything. \n",
        "model.build(input_shape=(None, 3))\n",
        "\n",
        "# now we can retrieve the model weights:\n",
        "model.weights "
      ],
      "metadata": {
        "id": "12oS5OIHqV6m"
      },
      "execution_count": null,
      "outputs": []
    },
    {
      "cell_type": "code",
      "source": [
        "# The summary() method\n",
        "\n",
        "# After the model is built, we can display its contents via the summary() method:\n",
        "\n",
        "model.summary()\n"
      ],
      "metadata": {
        "colab": {
          "base_uri": "https://localhost:8080/"
        },
        "id": "QvtECYOhrDOM",
        "outputId": "b4a2eca9-a41e-4e82-d7ab-11a0165819dc"
      },
      "execution_count": 5,
      "outputs": [
        {
          "output_type": "stream",
          "name": "stdout",
          "text": [
            "Model: \"sequential\"\n",
            "_________________________________________________________________\n",
            " Layer (type)                Output Shape              Param #   \n",
            "=================================================================\n",
            " dense (Dense)               (None, 64)                256       \n",
            "                                                                 \n",
            " dense_1 (Dense)             (None, 10)                650       \n",
            "                                                                 \n",
            " dense_2 (Dense)             (None, 64)                704       \n",
            "                                                                 \n",
            " dense_4 (Dense)             (None, 64)                4160      \n",
            "                                                                 \n",
            " dense_5 (Dense)             (None, 10)                650       \n",
            "                                                                 \n",
            "=================================================================\n",
            "Total params: 6,420\n",
            "Trainable params: 6,420\n",
            "Non-trainable params: 0\n",
            "_________________________________________________________________\n"
          ]
        }
      ]
    },
    {
      "cell_type": "code",
      "source": [
        "# Naming mdoels and layers with the name argument:\n",
        "\n",
        "model = keras.Sequential(name='my_example_model')\n",
        "model.add(layers.Dense(64, activation='relu', name='my_firs_layer'))\n",
        "model.add(layers.Dense(10, activation='softmax', name='my_last_layer'))\n",
        "model.build((None, 3))\n",
        "model.summary()"
      ],
      "metadata": {
        "colab": {
          "base_uri": "https://localhost:8080/"
        },
        "id": "dC6bQtkbrdVJ",
        "outputId": "ddba5f53-ced5-4e1b-e783-3c33f88f2fb0"
      },
      "execution_count": 6,
      "outputs": [
        {
          "output_type": "stream",
          "name": "stdout",
          "text": [
            "Model: \"my_example_model\"\n",
            "_________________________________________________________________\n",
            " Layer (type)                Output Shape              Param #   \n",
            "=================================================================\n",
            " my_firs_layer (Dense)       (None, 64)                256       \n",
            "                                                                 \n",
            " my_last_layer (Dense)       (None, 10)                650       \n",
            "                                                                 \n",
            "=================================================================\n",
            "Total params: 906\n",
            "Trainable params: 906\n",
            "Non-trainable params: 0\n",
            "_________________________________________________________________\n"
          ]
        }
      ]
    },
    {
      "cell_type": "code",
      "source": [
        "# Specifying the input shape of the model is advance:\n",
        "\n",
        "# use Input to declare the shape of the inputs. The shape argument must be\n",
        "# the shape of each sampel, not the shape of one batch\n",
        "\n",
        "model = keras.Sequential()\n",
        "model.add(keras.Input(shape=(3,)))\n",
        "model.add(layers.Dense(64, activation='relu'))\n",
        "\n",
        "model.summary()"
      ],
      "metadata": {
        "colab": {
          "base_uri": "https://localhost:8080/"
        },
        "id": "smLRLQCcstNh",
        "outputId": "fe7b90d6-962c-49f3-d190-dd2f84986c64"
      },
      "execution_count": 7,
      "outputs": [
        {
          "output_type": "stream",
          "name": "stdout",
          "text": [
            "Model: \"sequential_3\"\n",
            "_________________________________________________________________\n",
            " Layer (type)                Output Shape              Param #   \n",
            "=================================================================\n",
            " dense_6 (Dense)             (None, 64)                256       \n",
            "                                                                 \n",
            "=================================================================\n",
            "Total params: 256\n",
            "Trainable params: 256\n",
            "Non-trainable params: 0\n",
            "_________________________________________________________________\n"
          ]
        }
      ]
    },
    {
      "cell_type": "code",
      "source": [
        "# Use summary() to follow how the output shape of the model changes as we add more layers:\n",
        "\n",
        "model.add(layers.Dense(10, activation='softmax'))\n",
        "\n",
        "model.summary()"
      ],
      "metadata": {
        "colab": {
          "base_uri": "https://localhost:8080/"
        },
        "id": "nOhpMEsAtoGe",
        "outputId": "13513b99-a8e0-49b8-8f4a-8fcf4bfa201a"
      },
      "execution_count": 8,
      "outputs": [
        {
          "output_type": "stream",
          "name": "stdout",
          "text": [
            "Model: \"sequential_3\"\n",
            "_________________________________________________________________\n",
            " Layer (type)                Output Shape              Param #   \n",
            "=================================================================\n",
            " dense_6 (Dense)             (None, 64)                256       \n",
            "                                                                 \n",
            " dense_7 (Dense)             (None, 10)                650       \n",
            "                                                                 \n",
            "=================================================================\n",
            "Total params: 906\n",
            "Trainable params: 906\n",
            "Non-trainable params: 0\n",
            "_________________________________________________________________\n"
          ]
        }
      ]
    },
    {
      "cell_type": "markdown",
      "source": [
        "### The Functional API"
      ],
      "metadata": {
        "id": "akOjrufuvkrv"
      }
    },
    {
      "cell_type": "code",
      "source": [
        "# A simple Functional model with two Dense layers:\n",
        "\n",
        "# declare an input: this object holds information about the shape and dtype of the data \n",
        "# that the model will process:\n",
        "inputs = keras.Input(shape=(3,), name='my_input')\n",
        "\n",
        "# the model will process batches where each sample has shape (3, ). \n",
        "# The number of samples per batch is variable (None batch size):\n",
        "inputs.shape\n",
        "\n",
        "# The batches will have dtype float32:\n",
        "inputs.dtype\n",
        "\n",
        "# Such object is called a symbolic tensor. \n",
        "# It dosn't contain any actual data, but it encodes the specifications\n",
        "# of tha actual tensors of data.\n"
      ],
      "metadata": {
        "colab": {
          "base_uri": "https://localhost:8080/"
        },
        "id": "_zA-5FLkvoUR",
        "outputId": "82dea6ce-9880-4d32-caa0-7e530b328157"
      },
      "execution_count": 11,
      "outputs": [
        {
          "output_type": "execute_result",
          "data": {
            "text/plain": [
              "tf.float32"
            ]
          },
          "metadata": {},
          "execution_count": 11
        }
      ]
    },
    {
      "cell_type": "code",
      "source": [
        "# Create a layer and call it on the input: \n",
        "features = layers.Dense(64, activation='relu')(inputs)\n",
        "\n",
        "# All Keras layers cab be called both on real tensors of data on the \n",
        "# symbolic tensors. \n",
        "# in the last case they return a new symbolic tensor with updated information:\n",
        "features.shape\n"
      ],
      "metadata": {
        "colab": {
          "base_uri": "https://localhost:8080/"
        },
        "id": "L1DZVp7Kw22o",
        "outputId": "19bdafa0-7a42-4b98-f9ce-ccaa12a94ce2"
      },
      "execution_count": 12,
      "outputs": [
        {
          "output_type": "execute_result",
          "data": {
            "text/plain": [
              "TensorShape([None, 64])"
            ]
          },
          "metadata": {},
          "execution_count": 12
        }
      ]
    },
    {
      "cell_type": "code",
      "source": [
        "# After obtaining the final output, we instantiate the model by specifying ints inputs \n",
        "# and outputs in the Model constructor:\n",
        "\n",
        "outputs = layers.Dense(10, activation='softmax')(features)\n",
        "model = keras.Model(inputs=inputs, outputs=outputs) \n",
        "\n",
        "# The summary of the model: \n",
        "model.summary()"
      ],
      "metadata": {
        "colab": {
          "base_uri": "https://localhost:8080/"
        },
        "id": "Ih6tGDXNyWJU",
        "outputId": "e1f37463-9e61-4de5-b28e-f1370c314bdb"
      },
      "execution_count": 13,
      "outputs": [
        {
          "output_type": "stream",
          "name": "stdout",
          "text": [
            "Model: \"model\"\n",
            "_________________________________________________________________\n",
            " Layer (type)                Output Shape              Param #   \n",
            "=================================================================\n",
            " my_input (InputLayer)       [(None, 3)]               0         \n",
            "                                                                 \n",
            " dense_8 (Dense)             (None, 64)                256       \n",
            "                                                                 \n",
            " dense_9 (Dense)             (None, 10)                650       \n",
            "                                                                 \n",
            "=================================================================\n",
            "Total params: 906\n",
            "Trainable params: 906\n",
            "Non-trainable params: 0\n",
            "_________________________________________________________________\n"
          ]
        }
      ]
    },
    {
      "cell_type": "code",
      "source": [
        "# A multi-input, mulit-output Functional model:\n",
        "\n",
        "vocabulary_size = 10000\n",
        "num_tags = 100\n",
        "num_departments = 4\n",
        "\n",
        "# Define model inputs:\n",
        "title = keras.Input(shape=(vocabulary_size,), name='title')\n",
        "text_body = keras.Input(shape=(vocabulary_size), name='text_body')\n",
        "tags = keras.Input(shape=(num_tags), name='tags')\n",
        "\n",
        "# Combine input features into a single tensor by concatenating them: \n",
        "features = layers.Concatenate()([title, text_body, tags])\n",
        "\n",
        "# Apply an intermediate layer to recombine input features into richer representations:\n",
        "features = layers.Dense(64, activation='relu')(features) \n",
        "\n",
        "# Define model outputs:\n",
        "priority = layers.Dense(1, activation='sigmoid', name='priority')(features) \n",
        "department = layers.Dense(num_departments, activation='softmax', name='department')(features) \n",
        "\n",
        "# Create the model by specifying its inputs and outputs:\n",
        "model = keras.Model(inputs=[title, text_body, tags], outputs=[priority, department]) \n",
        "\n",
        "\n",
        "\n"
      ],
      "metadata": {
        "id": "QSRHBZEPyvhQ"
      },
      "execution_count": 14,
      "outputs": []
    },
    {
      "cell_type": "code",
      "source": [],
      "metadata": {
        "id": "iQK88nuL1Hz6"
      },
      "execution_count": null,
      "outputs": []
    }
  ]
}