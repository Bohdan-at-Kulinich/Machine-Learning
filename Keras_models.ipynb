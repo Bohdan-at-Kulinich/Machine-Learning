{
  "nbformat": 4,
  "nbformat_minor": 0,
  "metadata": {
    "colab": {
      "provenance": [],
      "authorship_tag": "ABX9TyPAoTu01wKw+69TY1enriem",
      "include_colab_link": true
    },
    "kernelspec": {
      "name": "python3",
      "display_name": "Python 3"
    },
    "language_info": {
      "name": "python"
    }
  },
  "cells": [
    {
      "cell_type": "markdown",
      "metadata": {
        "id": "view-in-github",
        "colab_type": "text"
      },
      "source": [
        "<a href=\"https://colab.research.google.com/github/Bohdan-at-Kulinich/Machine-Learning/blob/main/Keras_models.ipynb\" target=\"_parent\"><img src=\"https://colab.research.google.com/assets/colab-badge.svg\" alt=\"Open In Colab\"/></a>"
      ]
    },
    {
      "cell_type": "markdown",
      "source": [
        "###  The sequential model "
      ],
      "metadata": {
        "id": "ozaIlm4JpF2o"
      }
    },
    {
      "cell_type": "code",
      "source": [
        "# The Sequential class:\n",
        "\n",
        "from tensorflow import keras\n",
        "from tensorflow.keras import layers \n",
        "\n",
        "model = keras.Sequential([ \n",
        "    layers.Dense(64, activation='relu'),\n",
        "    layers.Dense(10, activation='softmax')\n",
        "])"
      ],
      "metadata": {
        "id": "kaWibS4epI5c"
      },
      "execution_count": 14,
      "outputs": []
    },
    {
      "cell_type": "code",
      "source": [
        "# Incrementally building a Sequential model:\n",
        "\n",
        "medel = keras.Sequential()\n",
        "model.add(layers.Dense(64, activation='relu'))\n",
        "model.add(layers.Dense(10, activation='softmax'))\n"
      ],
      "metadata": {
        "id": "kNOR7RAbphU3"
      },
      "execution_count": null,
      "outputs": []
    },
    {
      "cell_type": "code",
      "source": [
        "# Calling a model for the first time to bouid it. \n",
        "\n",
        "#This Sequential model does not have any weights until we actually call it on some data,\n",
        "# or call its build() method with an input shape:\n",
        "\n",
        "# model expects samples of shape(3, ). The None signals that the batch size could be anything. \n",
        "model.build(input_shape=(None, 3))\n",
        "\n",
        "# now we can retrieve the model weights:\n",
        "model.weights "
      ],
      "metadata": {
        "id": "12oS5OIHqV6m"
      },
      "execution_count": null,
      "outputs": []
    },
    {
      "cell_type": "code",
      "source": [
        "# The summary() method\n",
        "\n",
        "# After the model is built, we can display its contents via the summary() method:\n",
        "\n",
        "model.summary()\n"
      ],
      "metadata": {
        "colab": {
          "base_uri": "https://localhost:8080/"
        },
        "id": "QvtECYOhrDOM",
        "outputId": "b4a2eca9-a41e-4e82-d7ab-11a0165819dc"
      },
      "execution_count": null,
      "outputs": [
        {
          "output_type": "stream",
          "name": "stdout",
          "text": [
            "Model: \"sequential\"\n",
            "_________________________________________________________________\n",
            " Layer (type)                Output Shape              Param #   \n",
            "=================================================================\n",
            " dense (Dense)               (None, 64)                256       \n",
            "                                                                 \n",
            " dense_1 (Dense)             (None, 10)                650       \n",
            "                                                                 \n",
            " dense_2 (Dense)             (None, 64)                704       \n",
            "                                                                 \n",
            " dense_4 (Dense)             (None, 64)                4160      \n",
            "                                                                 \n",
            " dense_5 (Dense)             (None, 10)                650       \n",
            "                                                                 \n",
            "=================================================================\n",
            "Total params: 6,420\n",
            "Trainable params: 6,420\n",
            "Non-trainable params: 0\n",
            "_________________________________________________________________\n"
          ]
        }
      ]
    },
    {
      "cell_type": "code",
      "source": [
        "# Naming mdoels and layers with the name argument:\n",
        "\n",
        "model = keras.Sequential(name='my_example_model')\n",
        "model.add(layers.Dense(64, activation='relu', name='my_firs_layer'))\n",
        "model.add(layers.Dense(10, activation='softmax', name='my_last_layer'))\n",
        "model.build((None, 3))\n",
        "model.summary()"
      ],
      "metadata": {
        "colab": {
          "base_uri": "https://localhost:8080/"
        },
        "id": "dC6bQtkbrdVJ",
        "outputId": "ddba5f53-ced5-4e1b-e783-3c33f88f2fb0"
      },
      "execution_count": null,
      "outputs": [
        {
          "output_type": "stream",
          "name": "stdout",
          "text": [
            "Model: \"my_example_model\"\n",
            "_________________________________________________________________\n",
            " Layer (type)                Output Shape              Param #   \n",
            "=================================================================\n",
            " my_firs_layer (Dense)       (None, 64)                256       \n",
            "                                                                 \n",
            " my_last_layer (Dense)       (None, 10)                650       \n",
            "                                                                 \n",
            "=================================================================\n",
            "Total params: 906\n",
            "Trainable params: 906\n",
            "Non-trainable params: 0\n",
            "_________________________________________________________________\n"
          ]
        }
      ]
    },
    {
      "cell_type": "code",
      "source": [
        "# Specifying the input shape of the model is advance:\n",
        "\n",
        "# use Input to declare the shape of the inputs. The shape argument must be\n",
        "# the shape of each sampel, not the shape of one batch\n",
        "\n",
        "model = keras.Sequential()\n",
        "model.add(keras.Input(shape=(3,)))\n",
        "model.add(layers.Dense(64, activation='relu'))\n",
        "\n",
        "model.summary()"
      ],
      "metadata": {
        "colab": {
          "base_uri": "https://localhost:8080/"
        },
        "id": "smLRLQCcstNh",
        "outputId": "fe7b90d6-962c-49f3-d190-dd2f84986c64"
      },
      "execution_count": null,
      "outputs": [
        {
          "output_type": "stream",
          "name": "stdout",
          "text": [
            "Model: \"sequential_3\"\n",
            "_________________________________________________________________\n",
            " Layer (type)                Output Shape              Param #   \n",
            "=================================================================\n",
            " dense_6 (Dense)             (None, 64)                256       \n",
            "                                                                 \n",
            "=================================================================\n",
            "Total params: 256\n",
            "Trainable params: 256\n",
            "Non-trainable params: 0\n",
            "_________________________________________________________________\n"
          ]
        }
      ]
    },
    {
      "cell_type": "code",
      "source": [
        "# Use summary() to follow how the output shape of the model changes as we add more layers:\n",
        "\n",
        "model.add(layers.Dense(10, activation='softmax'))\n",
        "\n",
        "model.summary()"
      ],
      "metadata": {
        "colab": {
          "base_uri": "https://localhost:8080/"
        },
        "id": "nOhpMEsAtoGe",
        "outputId": "13513b99-a8e0-49b8-8f4a-8fcf4bfa201a"
      },
      "execution_count": null,
      "outputs": [
        {
          "output_type": "stream",
          "name": "stdout",
          "text": [
            "Model: \"sequential_3\"\n",
            "_________________________________________________________________\n",
            " Layer (type)                Output Shape              Param #   \n",
            "=================================================================\n",
            " dense_6 (Dense)             (None, 64)                256       \n",
            "                                                                 \n",
            " dense_7 (Dense)             (None, 10)                650       \n",
            "                                                                 \n",
            "=================================================================\n",
            "Total params: 906\n",
            "Trainable params: 906\n",
            "Non-trainable params: 0\n",
            "_________________________________________________________________\n"
          ]
        }
      ]
    },
    {
      "cell_type": "markdown",
      "source": [
        "### The Functional API"
      ],
      "metadata": {
        "id": "akOjrufuvkrv"
      }
    },
    {
      "cell_type": "code",
      "source": [
        "# A simple Functional model with two Dense layers:\n",
        "\n",
        "# declare an input: this object holds information about the shape and dtype of the data \n",
        "# that the model will process:\n",
        "inputs = keras.Input(shape=(3,), name='my_input')\n",
        "\n",
        "# the model will process batches where each sample has shape (3, ). \n",
        "# The number of samples per batch is variable (None batch size):\n",
        "inputs.shape\n",
        "\n",
        "# The batches will have dtype float32:\n",
        "inputs.dtype\n",
        "\n",
        "# Such object is called a symbolic tensor. \n",
        "# It dosn't contain any actual data, but it encodes the specifications\n",
        "# of tha actual tensors of data.\n"
      ],
      "metadata": {
        "colab": {
          "base_uri": "https://localhost:8080/"
        },
        "id": "_zA-5FLkvoUR",
        "outputId": "ab7aa8b5-9218-47c5-e819-6322d1a25da2"
      },
      "execution_count": null,
      "outputs": [
        {
          "output_type": "execute_result",
          "data": {
            "text/plain": [
              "tf.float32"
            ]
          },
          "metadata": {},
          "execution_count": 2
        }
      ]
    },
    {
      "cell_type": "code",
      "source": [
        "# Create a layer and call it on the input: \n",
        "features = layers.Dense(64, activation='relu')(inputs)\n",
        "\n",
        "# All Keras layers cab be called both on real tensors of data on the \n",
        "# symbolic tensors. \n",
        "# in the last case they return a new symbolic tensor with updated information:\n",
        "features.shape\n"
      ],
      "metadata": {
        "colab": {
          "base_uri": "https://localhost:8080/"
        },
        "id": "L1DZVp7Kw22o",
        "outputId": "19bdafa0-7a42-4b98-f9ce-ccaa12a94ce2"
      },
      "execution_count": null,
      "outputs": [
        {
          "output_type": "execute_result",
          "data": {
            "text/plain": [
              "TensorShape([None, 64])"
            ]
          },
          "metadata": {},
          "execution_count": 12
        }
      ]
    },
    {
      "cell_type": "code",
      "source": [
        "# After obtaining the final output, we instantiate the model by specifying ints inputs \n",
        "# and outputs in the Model constructor:\n",
        "\n",
        "outputs = layers.Dense(10, activation='softmax')(features)\n",
        "model = keras.Model(inputs=inputs, outputs=outputs) \n",
        "\n",
        "# The summary of the model: \n",
        "model.summary()"
      ],
      "metadata": {
        "colab": {
          "base_uri": "https://localhost:8080/"
        },
        "id": "Ih6tGDXNyWJU",
        "outputId": "e1f37463-9e61-4de5-b28e-f1370c314bdb"
      },
      "execution_count": null,
      "outputs": [
        {
          "output_type": "stream",
          "name": "stdout",
          "text": [
            "Model: \"model\"\n",
            "_________________________________________________________________\n",
            " Layer (type)                Output Shape              Param #   \n",
            "=================================================================\n",
            " my_input (InputLayer)       [(None, 3)]               0         \n",
            "                                                                 \n",
            " dense_8 (Dense)             (None, 64)                256       \n",
            "                                                                 \n",
            " dense_9 (Dense)             (None, 10)                650       \n",
            "                                                                 \n",
            "=================================================================\n",
            "Total params: 906\n",
            "Trainable params: 906\n",
            "Non-trainable params: 0\n",
            "_________________________________________________________________\n"
          ]
        }
      ]
    },
    {
      "cell_type": "code",
      "source": [
        "# A multi-input, mulit-output Functional model:\n",
        "\n",
        "vocabulary_size = 10000\n",
        "num_tags = 100\n",
        "num_departments = 4\n",
        "\n",
        "# Define model inputs:\n",
        "title = keras.Input(shape=(vocabulary_size,), name='title')\n",
        "text_body = keras.Input(shape=(vocabulary_size), name='text_body')\n",
        "tags = keras.Input(shape=(num_tags), name='tags')\n",
        "\n",
        "# Combine input features into a single tensor by concatenating them: \n",
        "features = layers.Concatenate()([title, text_body, tags])\n",
        "\n",
        "# Apply an intermediate layer to recombine input features into richer representations:\n",
        "features = layers.Dense(64, activation='relu')(features) \n",
        "\n",
        "# Define model outputs:\n",
        "priority = layers.Dense(1, activation='sigmoid', name='priority')(features) \n",
        "department = layers.Dense(num_departments, activation='softmax', name='department')(features) \n",
        "\n",
        "# Create the model by specifying its inputs and outputs:\n",
        "model = keras.Model(inputs=[title, text_body, tags], outputs=[priority, department]) \n",
        "\n",
        "\n",
        "\n"
      ],
      "metadata": {
        "id": "QSRHBZEPyvhQ"
      },
      "execution_count": null,
      "outputs": []
    },
    {
      "cell_type": "code",
      "source": [
        "# Training a multi-input, multi-output model:\n",
        "# by providing lists of input and target arrays\n",
        "\n",
        "import numpy as np \n",
        "\n",
        "num_samples = 1280\n",
        "\n",
        "# dummy input data:\n",
        "title_data = np.random.randint(0, 2, size=(num_samples, vocabulary_size)) \n",
        "text_body_data = np.random.randint(0, 2, size=(num_samples, vocabulary_size))\n",
        "tags_data = np.random.randint(0, 2, size=(num_samples, num_tags))\n",
        "\n",
        "# dummy target data:\n",
        "priority_data = np.random.random(size=(num_samples, 1))\n",
        "department_data = np.random.randint(0, 2, size=(num_samples, num_departments))\n",
        "\n",
        "model.compile(optimizer='rmsprop',\n",
        "              loss=['mean_squared_error', 'categorical_crossentropy'],\n",
        "              metrics=[['mean_absolute_error'], ['accuracy']])\n",
        "\n",
        "model.fit([title_data, text_body_data, tags_data],\n",
        "          [priority_data, department_data],\n",
        "          epochs=1)\n",
        "\n",
        "model.evaluate([title_data, text_body_data, tags_data],\n",
        "               [priority_data, department_data])\n",
        "\n",
        "priority_preds, department_preds = model.predict( \n",
        "    [title_data, text_body_data, tags_data]\n",
        ")\n",
        "\n",
        "\n"
      ],
      "metadata": {
        "id": "iQK88nuL1Hz6",
        "colab": {
          "base_uri": "https://localhost:8080/"
        },
        "outputId": "cc719587-1fce-44c1-f5c1-e0e901e6a7f6"
      },
      "execution_count": null,
      "outputs": [
        {
          "output_type": "stream",
          "name": "stdout",
          "text": [
            "40/40 [==============================] - 2s 20ms/step - loss: 20.5783 - priority_loss: 0.3369 - department_loss: 20.2414 - priority_mean_absolute_error: 0.5026 - department_accuracy: 0.2430\n",
            "40/40 [==============================] - 1s 8ms/step - loss: 18.8177 - priority_loss: 0.3420 - department_loss: 18.4757 - priority_mean_absolute_error: 0.5076 - department_accuracy: 0.2555\n",
            "40/40 [==============================] - 0s 8ms/step\n"
          ]
        }
      ]
    },
    {
      "cell_type": "code",
      "source": [
        "# Training a model by providing dicts of input and target arrays:\n",
        "\n",
        "model.compile(optimizer='rmsprop',\n",
        "              loss={'priority': 'mean_squared_error',\n",
        "                    'department': 'categorical_crossentropy'},\n",
        "              metrics={'priority': 'mean_absolute_error',\n",
        "                       'department': 'accuracy'})\n",
        "\n",
        "model.fit({'title': title_data, \n",
        "           'text_body': text_body_data,\n",
        "           'tags': tags_data},\n",
        "          {'priority': priority_data, \n",
        "           'department': department_data},\n",
        "          epochs=1)\n",
        "\n",
        "model.evaluate({'title': title_data, \n",
        "                'text_body': text_body_data,\n",
        "                'tags': tags_data},\n",
        "               {'priority': priority_data,\n",
        "                'department': department_data})\n",
        "\n",
        "model_preds, department_preds = model.predict( \n",
        "    {'title': title_data, \n",
        "     'text_body': text_body_data,\n",
        "     'tags': tags_data} \n",
        ")\n"
      ],
      "metadata": {
        "colab": {
          "base_uri": "https://localhost:8080/"
        },
        "id": "Q0uQDRx3Zj0X",
        "outputId": "eb09b1c2-5559-4303-d91a-382ce87204f5"
      },
      "execution_count": null,
      "outputs": [
        {
          "output_type": "stream",
          "name": "stdout",
          "text": [
            "40/40 [==============================] - 2s 20ms/step - loss: 33.9701 - priority_loss: 0.3420 - department_loss: 33.6281 - priority_mean_absolute_error: 0.5076 - department_accuracy: 0.2258\n",
            "40/40 [==============================] - 1s 8ms/step - loss: 39.1661 - priority_loss: 0.3420 - department_loss: 38.8241 - priority_mean_absolute_error: 0.5076 - department_accuracy: 0.2547\n",
            "40/40 [==============================] - 0s 8ms/step\n"
          ]
        }
      ]
    },
    {
      "cell_type": "markdown",
      "source": [
        "### Access to layer connectivity"
      ],
      "metadata": {
        "id": "BpwYY76tdGgS"
      }
    },
    {
      "cell_type": "code",
      "source": [
        "keras.utils.plot_model(model, 'ticket_classifier.png')"
      ],
      "metadata": {
        "colab": {
          "base_uri": "https://localhost:8080/",
          "height": 369
        },
        "id": "iAW8u2aFdKFH",
        "outputId": "41b9620c-61b4-4109-addf-2b395995ab7e"
      },
      "execution_count": null,
      "outputs": [
        {
          "output_type": "execute_result",
          "data": {
            "image/png": "[encoded data removed]",
            "text/plain": [
              "<IPython.core.display.Image object>"
            ]
          },
          "metadata": {},
          "execution_count": 9
        }
      ]
    },
    {
      "cell_type": "code",
      "source": [
        "# Model plot with shape information added: \n",
        "\n",
        "keras.utils.plot_model(\n",
        "    model, 'tickets_classifier_with_shape_info.png', show_shapes=True\n",
        ")"
      ],
      "metadata": {
        "colab": {
          "base_uri": "https://localhost:8080/",
          "height": 422
        },
        "id": "zdAWsgqPdSw3",
        "outputId": "74568d5b-60e4-465e-f5a4-b70a1935aba5"
      },
      "execution_count": null,
      "outputs": [
        {
          "output_type": "execute_result",
          "data": {
            "image/png": "[encoded data removed]",
            "text/plain": [
              "<IPython.core.display.Image object>"
            ]
          },
          "metadata": {},
          "execution_count": 10
        }
      ]
    },
    {
      "cell_type": "code",
      "source": [
        "# Retrieving the inputs and outputs of a layer in a Functinal nodel:\n",
        "# this enables us to do feature extraction, creating models that reuse intermediate \n",
        "# features from anothe model\n",
        "model.layers"
      ],
      "metadata": {
        "id": "xKokfUsbd0uK",
        "colab": {
          "base_uri": "https://localhost:8080/"
        },
        "outputId": "e6b7e39f-36e5-4c6a-c401-bf522b976ded"
      },
      "execution_count": null,
      "outputs": [
        {
          "output_type": "execute_result",
          "data": {
            "text/plain": [
              "[<keras.engine.input_layer.InputLayer at 0x7fa06bf8e310>,\n",
              " <keras.engine.input_layer.InputLayer at 0x7fa0dda02d50>,\n",
              " <keras.engine.input_layer.InputLayer at 0x7fa0dcb98d90>,\n",
              " <keras.layers.merging.concatenate.Concatenate at 0x7fa0dcb85d90>,\n",
              " <keras.layers.core.dense.Dense at 0x7fa06bf8e890>,\n",
              " <keras.layers.core.dense.Dense at 0x7fa06d4dbf50>,\n",
              " <keras.layers.core.dense.Dense at 0x7fa06bf8ea10>]"
            ]
          },
          "metadata": {},
          "execution_count": 5
        }
      ]
    },
    {
      "cell_type": "code",
      "source": [
        "model.layers[3].input"
      ],
      "metadata": {
        "colab": {
          "base_uri": "https://localhost:8080/"
        },
        "id": "6pnkPgwY_IG8",
        "outputId": "5056c831-a147-4920-a0ac-919a97bdc48d"
      },
      "execution_count": null,
      "outputs": [
        {
          "output_type": "execute_result",
          "data": {
            "text/plain": [
              "[<KerasTensor: shape=(None, 10000) dtype=float32 (created by layer 'title')>,\n",
              " <KerasTensor: shape=(None, 10000) dtype=float32 (created by layer 'text_body')>,\n",
              " <KerasTensor: shape=(None, 100) dtype=float32 (created by layer 'tags')>]"
            ]
          },
          "metadata": {},
          "execution_count": 6
        }
      ]
    },
    {
      "cell_type": "code",
      "source": [
        "model.layers[3].output"
      ],
      "metadata": {
        "colab": {
          "base_uri": "https://localhost:8080/"
        },
        "id": "xnTH8_kq_VXB",
        "outputId": "c3ee82b4-5a15-4cf0-ba00-218c84063748"
      },
      "execution_count": null,
      "outputs": [
        {
          "output_type": "execute_result",
          "data": {
            "text/plain": [
              "<KerasTensor: shape=(None, 20100) dtype=float32 (created by layer 'concatenate')>"
            ]
          },
          "metadata": {},
          "execution_count": 7
        }
      ]
    },
    {
      "cell_type": "code",
      "source": [
        "# Creating a new model by reusing intermediate layer outputs:\n",
        "\n",
        "fetures = model.layers[4].output  # intermediate Dense layer\n",
        "difficulty = layers.Dense(3, activation='softmax', name='difficulty')(features)\n",
        "\n",
        "new_model = keras.Model(\n",
        "    inputs=[title, text_body, tags],\n",
        "    outputs=[priority, department, difficulty] \n",
        ")\n",
        "\n",
        "# Plot our new model:\n",
        "\n",
        "keras.utils.plot_model(\n",
        "    new_model, 'updated_ticket_classifier.png', show_shapes=True\n",
        ")"
      ],
      "metadata": {
        "colab": {
          "base_uri": "https://localhost:8080/",
          "height": 422
        },
        "id": "AjfZ9GuY_coe",
        "outputId": "2a6273f9-ae47-453c-97fb-b3c691259a30"
      },
      "execution_count": null,
      "outputs": [
        {
          "output_type": "execute_result",
          "data": {
            "image/png": "[encoded data removed]",
            "text/plain": [
              "<IPython.core.display.Image object>"
            ]
          },
          "metadata": {},
          "execution_count": 8
        }
      ]
    },
    {
      "cell_type": "markdown",
      "source": [
        "### Subclassing the model class"
      ],
      "metadata": {
        "id": "I_nfZk_YBS7R"
      }
    },
    {
      "cell_type": "code",
      "source": [
        "# In the __init__ method, define the layers the model will use.\n",
        "# In the call() method, define the forward pass of the model, reusing the previous layers.\n",
        "# Instantiate the subclass, and call it on data to create its weights.\n",
        "\n",
        "class CustomerTicketModel(keras.Model):\n",
        "\n",
        "  def __init__(self, num_departments):\n",
        "    super().__init__()     # Always call the super constructor!\n",
        "\n",
        "    # Define sublayers in constructor:\n",
        "    self.concat_layer = layers.Concatenate()\n",
        "    self.mixing_layer = layers.Dense(64, activation='relu')\n",
        "    self.priority_scorer = layers.Dense(1, activation='sigmoid')\n",
        "    self.department_classifier = layers.Dense(num_departments, activation='softmax') \n",
        "\n",
        "  # Define the forward pass in the call method: \n",
        "  def call(self, inputs):\n",
        "    title = inputs['title']\n",
        "    text_body = inputs['text_body']\n",
        "    tags = inputs['tags']\n",
        "\n",
        "    features = self.concat_layer([title, text_body, tags])\n",
        "    features = self.mixing_layer(features)\n",
        "    priority = self.priority_scorer(features)\n",
        "    departemnt = self.department_classifier(features)\n",
        "\n",
        "    return priority, department \n",
        "\n"
      ],
      "metadata": {
        "id": "OrmjUPyRBVVF"
      },
      "execution_count": null,
      "outputs": []
    },
    {
      "cell_type": "code",
      "source": [
        "# Once you've defined the model, you can instantiate it:\n",
        "\n",
        "model = CustomerTicketModel(num_departments=4)\n",
        "\n",
        "priority, department = model(\n",
        "    {'title': title_data, 'text_body': text_body_data, 'tags': tags_data}\n",
        ")\n"
      ],
      "metadata": {
        "id": "qVbQGp4KDnTD"
      },
      "execution_count": null,
      "outputs": []
    },
    {
      "cell_type": "code",
      "source": [
        "# We can train a Model subclass: \n",
        "\n",
        "model.compile(optimizer='rmsprop',\n",
        "              loss=['mean_squared_error', 'categorical_crossentropy'], \n",
        "              metrics=[['mean_absolute_error'], ['accuracy']])   # should coincide with what you get from returned call(): a list of two elements\n",
        "\n",
        "# The structure of the input data must match exactly what is expected by the call() method: a dict with keys.\n",
        "# The structure of the target data must match exaclty what is returned by the call(): a list of two elements. \n",
        "model.fit({'title': title_data,\n",
        "           'text_body': text_body_data,\n",
        "           'tags': tags_data}, \n",
        "          [priority_data, department_data],\n",
        "          epochs=1) \n",
        "\n",
        "model.evaluate({'title': title_data, \n",
        "                'text_body': text_body_data,\n",
        "                'tags': tags_data},\n",
        "               [priority_data, department_data])\n",
        "\n",
        "priority_preds, department_preds = model.predict({'title': title_data,\n",
        "                                                  'text_body': text_body_data,\n",
        "                                                  'tags': tags_data})\n",
        "\n"
      ],
      "metadata": {
        "id": "LzaP-wE3EU5u"
      },
      "execution_count": null,
      "outputs": []
    },
    {
      "cell_type": "markdown",
      "source": [
        "### Mixing and matching different components: \n",
        "\n"
      ],
      "metadata": {
        "id": "YhK3ZbfWqQoD"
      }
    },
    {
      "cell_type": "code",
      "source": [
        "# Creating a Functional model that includes a subclassed model:\n",
        "\n",
        "class Classifier(keras.Model):\n",
        "\n",
        "  def __init__(self, num_classes=2):\n",
        "    super().__init__()\n",
        "    if num_classes == 2:\n",
        "      num_units = 1\n",
        "      activation = 'sigmoid'\n",
        "    else: \n",
        "      num_units = num_classes\n",
        "      activation = 'softmax'\n",
        "    self.dense = layers.Dense(num_units, activation=activation) \n",
        "\n",
        "  def call(self, inputs):\n",
        "    return self.dense(inputs) \n",
        "\n",
        "inputs = keras.Input(shape=(3,))\n",
        "features = layers.Dense(64, activation='relu')(inputs)\n",
        "outputs = Classifier(num_classes=10)(features)\n",
        "model = keras.Model(inputs=inputs, outputs=outputs) "
      ],
      "metadata": {
        "id": "E-TYhJLbHLtj"
      },
      "execution_count": null,
      "outputs": []
    },
    {
      "cell_type": "code",
      "source": [
        "# Creating a subclassed model that includes a Functional model:\n",
        "\n",
        "inputs = keras.Input(shape=(64, ))\n",
        "outputs = layers.Dense(1, activation='sigmoid')(inputs)\n",
        "binary_classifier = keras.Model(inputs=inputs, outputs=outputs)\n",
        "\n",
        "class MyModel(keras.Model):\n",
        "\n",
        "  def __init__(self, num_classes=2):\n",
        "    super().__init__()\n",
        "    self.dense = layers.Dense(64, activation='relu')\n",
        "    self.classifier = binary_classifier \n",
        "\n",
        "  def call(self, inputs):\n",
        "    features = self.dense(inputs)\n",
        "    return self.classifier(features) \n",
        "\n",
        "model = MyModel() "
      ],
      "metadata": {
        "id": "C8WNfi-8rV48"
      },
      "execution_count": null,
      "outputs": []
    },
    {
      "cell_type": "markdown",
      "source": [
        "### Built-in training and evaluation loops"
      ],
      "metadata": {
        "id": "t48fOQjusoEv"
      }
    },
    {
      "cell_type": "code",
      "source": [
        "# The standard workflow: compile(), fit(), evaluate(), predict(): \n",
        "\n",
        "from tensorflow.keras.datasets import mnist \n",
        "\n",
        "# Create a model:\n",
        "def get_mnist_model():\n",
        "  inputs = keras.Input(shape=(28*28,))\n",
        "  features = layers.Dense(512, activation='relu')(inputs)\n",
        "  features = layers.Dropout(0.5)(features)\n",
        "  outputs = layers.Dense(10, activation='softmax')(features) \n",
        "  model = keras.Model(inputs, outputs)\n",
        "  return model \n",
        "\n",
        "# Load the data, reserving some for validation:\n",
        "(images, labels), (test_images, test_labels) = mnist.load_data() \n",
        "images = images.reshape((60000, 28*28)).astype('float32') / 255 \n",
        "test_images = test_images.reshape((10000, 28*28)).astype('float32') / 255 \n",
        "train_images, val_images = images[10000:], images[:10000]\n",
        "train_labels, val_labels = labels[10000:], labels[:10000] \n",
        "\n",
        "# Compile the model:\n",
        "model = get_mnist_model() \n",
        "model.compile(optimizer='rmsprop', \n",
        "              loss='sparse_categorical_crossentropy',\n",
        "              metrics=['accuracy'])\n",
        "\n",
        "# Train the model, optionaly providing validation data to monitor performance on the unseen data.\n",
        "model.fit(train_images, train_labels,\n",
        "          epochs=3,\n",
        "          validation_data=(val_images, val_labels))\n",
        "\n",
        "# Compute the loss and metrics on the new data\n",
        "test_metrics = model.evaluate(test_images, test_labels) \n",
        "\n",
        "# Compute classification probabilities on new data \n",
        "predictions = model.predict(test_images) \n"
      ],
      "metadata": {
        "id": "XCkowQHpssqw",
        "colab": {
          "base_uri": "https://localhost:8080/"
        },
        "outputId": "ac78bf87-36de-4639-bd61-274b96342e5a"
      },
      "execution_count": null,
      "outputs": [
        {
          "output_type": "stream",
          "name": "stdout",
          "text": [
            "Downloading data from https://storage.googleapis.com/tensorflow/tf-keras-datasets/mnist.npz\n",
            "11490434/11490434 [==============================] - 0s 0us/step\n",
            "Epoch 1/3\n",
            "1563/1563 [==============================] - 12s 7ms/step - loss: 0.2936 - accuracy: 0.9119 - val_loss: 0.1598 - val_accuracy: 0.9558\n",
            "Epoch 2/3\n",
            "1563/1563 [==============================] - 11s 7ms/step - loss: 0.1668 - accuracy: 0.9532 - val_loss: 0.1199 - val_accuracy: 0.9666\n",
            "Epoch 3/3\n",
            "1563/1563 [==============================] - 11s 7ms/step - loss: 0.1397 - accuracy: 0.9624 - val_loss: 0.1064 - val_accuracy: 0.9727\n",
            "313/313 [==============================] - 1s 3ms/step - loss: 0.1014 - accuracy: 0.9732\n",
            "313/313 [==============================] - 1s 3ms/step\n"
          ]
        }
      ]
    },
    {
      "cell_type": "code",
      "source": [
        "# Writing your own metrics: \n",
        "\n",
        "# A Keras metric is a subclass of the keras.metrics.Metric class. \n",
        "# We need to write the state-update logic ourselves, using update_state() method. \n",
        "\n",
        "# Implementing a sustom metric by subclassing the Metric class:\n",
        "\n",
        "import tensorflow as tf \n",
        "\n",
        "class RootMeanSquaredError(keras.metrics.Metric):\n",
        "\n",
        "  # Define the state variables in the constructor:\n",
        "  def __init__(self, name='rmse', **kwargs):\n",
        "    super().__init__(name=name, **kwargs)\n",
        "    self.mse_sum = self.add_weight(name='mse_sum', initializer='zeros') \n",
        "    self.total_samples = self.add_weight(\n",
        "        name='total_samples', initializer='zeros', dtype='int32') \n",
        "    \n",
        "  # Implement the state update logic: the y_true argument is the targets for one batch,\n",
        "  # y_pred represents the corresponding predictions from the model. \n",
        "  # To match the MNIST model, we expect categorical predictions  and integer labels. \n",
        "  def update_state(self, y_true, y_pred, sample_weight=None):\n",
        "    y_true = tf.one_hot(y_true, depth=tf.shape(y_pred)[1])\n",
        "    mse = tf.reduce_sum(tf.square(y_true - y_pred)) \n",
        "    self.mse_sum.assign_add(mse) \n",
        "    num_samples = tf.shape(y_pred)[0] \n",
        "    self.total_samples.assign_add(num_samples) \n",
        "\n",
        "# Use the result() method to return the current value of the metric:\n",
        "  def result(self):\n",
        "    return tf.sqrt(self.mse_sum / tf.cast(self.total_samples, tf.float32)) \n",
        "\n",
        "# Reset the metric state without having to reinstantiate it:\n",
        "  def reset_state(self):\n",
        "    self.mse_sum.assign(0.)\n",
        "    self.total_samples.assign(0) \n",
        "\n",
        "model = get_mnist_model() \n",
        "model.compile(optimizer='rmsprop',\n",
        "              loss='sparse_categorical_crossentropy',\n",
        "              metrics=['accuracy', RootMeanSquaredError()])\n",
        "model.fit(train_images, train_labels,\n",
        "          epochs=3,\n",
        "          validation_data=(val_images, val_labels))\n",
        "test_metrics = model.evaluate(test_images, test_labels) \n"
      ],
      "metadata": {
        "colab": {
          "base_uri": "https://localhost:8080/"
        },
        "id": "BSHKDPLA8otX",
        "outputId": "0c110782-d195-495b-f7e2-0c7f857009aa"
      },
      "execution_count": null,
      "outputs": [
        {
          "output_type": "stream",
          "name": "stdout",
          "text": [
            "Epoch 1/3\n",
            "1563/1563 [==============================] - 12s 7ms/step - loss: 0.2967 - accuracy: 0.9127 - rmse: 7.1791 - val_loss: 0.1516 - val_accuracy: 0.9561 - val_rmse: 7.3575\n",
            "Epoch 2/3\n",
            "1563/1563 [==============================] - 16s 10ms/step - loss: 0.1647 - accuracy: 0.9534 - rmse: 7.3557 - val_loss: 0.1248 - val_accuracy: 0.9666 - val_rmse: 7.4019\n",
            "Epoch 3/3\n",
            "1563/1563 [==============================] - 16s 10ms/step - loss: 0.1389 - accuracy: 0.9633 - rmse: 7.3884 - val_loss: 0.1183 - val_accuracy: 0.9695 - val_rmse: 7.4230\n",
            "313/313 [==============================] - 1s 3ms/step - loss: 0.1116 - accuracy: 0.9712 - rmse: 7.4324\n"
          ]
        }
      ]
    },
    {
      "cell_type": "markdown",
      "source": [
        "### Using callbacks"
      ],
      "metadata": {
        "id": "YCFcOtlrpe0F"
      }
    },
    {
      "cell_type": "code",
      "source": [
        "# Using callbacks: The Earlystopping and Modelcheckpoint Callbacks:\n",
        "\n",
        "# To find an optimal number of epochs when the validation loss is no longer improving:\n",
        "# EarlyStopping callback interrupts training once a target metric has stopped improving. \n",
        "# ModelCheckpoint lets you continously save the model during training: \n",
        "\n",
        "# Using the callbacks argument in the fit() method:\n",
        "\n",
        "# Callbacks are passed to the model by means of callback arguments in fit(), \n",
        "# which takes a list of callbacks. \n",
        "callbacks_list = [ \n",
        "    keras.callbacks.EarlyStopping(   # interrupts training when improvement stops\n",
        "        monitor='val_accuracy',      # monitor the model validation accuracy\n",
        "        patience=2,                  # interrupts training when accuracy has stopped improving for two epochs\n",
        "    ),\n",
        "    keras.callbacks.ModelCheckpoint(      # saves the current weights after every epoch\n",
        "        filepath='checkpoint_path.keras', # path to the destination model file\n",
        "        monitor='val_loss',               # keep the best model seen during training \n",
        "        save_best_only=True,\n",
        "    )\n",
        "]\n",
        "\n",
        "model = get_mnist_model() \n",
        "model.compile(optimizer='rmsprop',\n",
        "              loss='sparse_categorical_crossentropy',\n",
        "              metrics=['accuracy'])    # we monitor accuracy, so it should be part of the model's metrics\n",
        "\n",
        "# Since the callback will monitor validation loss and accuracy, \n",
        "# we need to pass validation_data to the call to fit(): \n",
        "model.fit(train_images, train_labels,\n",
        "          epochs=10, \n",
        "          callbacks=callbacks_list,\n",
        "          validation_data=(val_images, val_labels))\n",
        "\n",
        "\n",
        "# The model has stopped training on the 7th epoch,\n",
        "# when the validation accurace has stopped improving for the next 2 epochs,\n",
        "# reaching the max value on the 5th epoch run. "
      ],
      "metadata": {
        "id": "lWU9dmWS9tmb"
      },
      "execution_count": null,
      "outputs": []
    },
    {
      "cell_type": "code",
      "source": [
        "# Creating a custom callback by subclassing the Callback class:\n",
        "\n",
        "from matplotlib import pyplot as plt \n",
        "\n",
        "class LossHistory(keras.callbacks.Callback):\n",
        "  \n",
        "  def on_train_begin(self, logs):\n",
        "    self.per_batch_losses = [] \n",
        "\n",
        "  def on_batch_end(self, batch, logs):\n",
        "    self.per_batch_losses.append(logs.get('loss'))\n",
        "\n",
        "  def on_epochs_end(self, epoch, logs):\n",
        "    plt.clf()\n",
        "    plt.plot(range(len(self.per_batch_losses)), self.per_batch_losses, \n",
        "             label='Training loss for each batch')\n",
        "    plt.xlabel(f\"Batch(epoch {epoch})\")\n",
        "    plt.ylabel(\"Loss\")\n",
        "    plt.legend()\n",
        "    plt.savefig(f\"plot_at_epoch_{epoch}\")\n",
        "    self.per_batch_losses = [] "
      ],
      "metadata": {
        "id": "6Zs7KSQ_uVvM"
      },
      "execution_count": null,
      "outputs": []
    },
    {
      "cell_type": "code",
      "source": [
        "model = get_mnist_model() \n",
        "model.compile(optimizer='rmsprop',\n",
        "              loss='sparse_categorical_crossentropy',\n",
        "              metrics=['accuracy'])\n",
        "model.fit(train_images, train_labels, \n",
        "          epochs=10, \n",
        "          callbacks=[LossHistory()],\n",
        "          validation_data=(val_images, val_labels)\n",
        "          ) "
      ],
      "metadata": {
        "id": "g3VsnnCVw8HG"
      },
      "execution_count": null,
      "outputs": []
    },
    {
      "cell_type": "code",
      "source": [
        "# Monitoring and visualizing with TensorBoard: \n",
        "\n",
        "%load_ext tensorboard \n",
        "\n",
        "\n",
        "model = get_mnist_model() \n",
        "\n",
        "model.compile(optimizer='rmsprop', \n",
        "              loss='sparse_categorical_crossentropy',\n",
        "              metrics=['accuracy'])\n",
        "\n",
        "\n",
        "logdir = os.path.join(\"logs\", datetime.datetime.now().strftime(\"%Y%m%d-%H%M%S\"))\n",
        "tensorboard = e.keras.callbacks.TensorBoard(logdir, histogram_freq=1)\n",
        "\n",
        "model.fit(train_images, train_labels,\n",
        "          epochs=10, \n",
        "          validation_data=(val_images, val_labels),\n",
        "          callbacks=[tensorboard])"
      ],
      "metadata": {
        "id": "1gctslXJx-zr"
      },
      "execution_count": null,
      "outputs": []
    },
    {
      "cell_type": "markdown",
      "source": [
        "### Writing your own training and evaluation loops"
      ],
      "metadata": {
        "id": "youF2CjxxRzP"
      }
    },
    {
      "cell_type": "code",
      "source": [
        "# Low-level usage of metrics: \n",
        "\n",
        "# A supervised-learning training step:\n",
        "\n",
        "def train_step(inputs, targets):\n",
        "  with tf.GradientTape() as tape: \n",
        "    predictions = model(inputs, training=True)\n",
        "    loss = loss_fn(targets, predictions)\n",
        "  gradients = tape.gradients(loss, model.trainable_weights)\n",
        "  optimizer.apply_gradients(zip(model.trainable_weights, gradients))\n",
        "  "
      ],
      "metadata": {
        "id": "0diAC6WmxXVK"
      },
      "execution_count": null,
      "outputs": []
    },
    {
      "cell_type": "code",
      "source": [
        "# Keras metrics:\n",
        "\n",
        "metric = keras.metrics.SparseCategoricalAccuracy() \n",
        "targets = [0, 1, 2] \n",
        "predictions = [[1, 0, 0], [0, 1, 0], [0, 0, 1]]\n",
        "metric.update_state(targets, predictions)\n",
        "current_result = metric.result()\n",
        "\n",
        "print(f\"result: {current_result:.2f}\")"
      ],
      "metadata": {
        "colab": {
          "base_uri": "https://localhost:8080/"
        },
        "id": "azsp24bKyjbo",
        "outputId": "bbe542a3-6483-4c63-9652-ca17aecfd47f"
      },
      "execution_count": null,
      "outputs": [
        {
          "output_type": "stream",
          "name": "stdout",
          "text": [
            "result: 1.00\n"
          ]
        }
      ]
    },
    {
      "cell_type": "code",
      "source": [
        "# Track the average of a scalar value (model loss): \n",
        "\n",
        "values = [0, 1, 2, 3, 4]\n",
        "mean_tracker = keras.metrics.Mean() \n",
        "for value in values: \n",
        "  mean_tracker.update_state(value) \n",
        "print(f\"Mean of values: {mean_tracker.result():.2f}\")"
      ],
      "metadata": {
        "colab": {
          "base_uri": "https://localhost:8080/"
        },
        "id": "N9ggEIytzaZY",
        "outputId": "e467836a-dced-4119-f783-dcb0966374ea"
      },
      "execution_count": null,
      "outputs": [
        {
          "output_type": "stream",
          "name": "stdout",
          "text": [
            "Mean of values: 2.00\n"
          ]
        }
      ]
    },
    {
      "cell_type": "code",
      "source": [
        "# Writing a step-by-step training loop: the training step function\n",
        "\n",
        "# Combine forward pass, backward pass, and metrics tracking \n",
        "# into a fit()-like training step function: \n",
        "\n",
        "model = get_mnist_model() \n",
        "\n",
        "loss_fn = keras.losses.SparseCategoricalCrossentropy()   # prepare the loss function \n",
        "optimizer = keras.optimizers.RMSprop()                   # prepare the optimizer \n",
        "metrics = [keras.metrics.SparseCategoricalAccuracy()]    # prepare the list of metrics to monitor\n",
        "loss_tracking_metric = keras.metrics.Mean()              # prepare a Mean metric tracker to keep track of the loss average\n",
        "\n",
        "def train_step(inputs, targets):\n",
        "  with tf.GradientTape() as tape:  \n",
        "    predictions = model(inputs, training=True)           # run the forward pass \n",
        "    loss = loss_fn(targets, predictions)  \n",
        "\n",
        "  gradients = tape.gradient(loss, model.trainable_weights)           # run the backward pass \n",
        "  optimizer.apply_gradients(zip(gradients, model.trainable_weights)) \n",
        " \n",
        "  logs = {} \n",
        "  for metric in metrics: \n",
        "    metric.update_state(targets, predictions)            # keep track of metrics \n",
        "    logs[metric.name] = metric.result() \n",
        "\n",
        "  loss_tracking_metric.update_state(loss)                # keep track of the loss average \n",
        "  logs['loss'] = loss_tracking_metric.result() \n",
        "\n",
        "  return logs                                            # return the current values of the metrics and the loss "
      ],
      "metadata": {
        "id": "Z_GgLIEAz7X-"
      },
      "execution_count": 15,
      "outputs": []
    },
    {
      "cell_type": "code",
      "source": [
        "# Writing a step-by-step training loop: resetting the metrics: \n",
        "\n",
        "# We will need to reset the state of our metrics at the start of each epoch and before running evaluation:\n",
        "\n",
        "def reset_metrics(): \n",
        "  for metric in metrics:  \n",
        "    metric.reset_state() \n",
        "  loss_tracking_metric.reset_state() "
      ],
      "metadata": {
        "id": "MhKsAtqW18CV"
      },
      "execution_count": 16,
      "outputs": []
    },
    {
      "cell_type": "code",
      "source": [
        "# Writing a step-by-step training loop: the loop itself: \n",
        "import tensorflow as tf\n",
        "# User tf.data.Dataset object to turn the NumPy data into an iterator that iterates over the batches of size 32:\n",
        "training_dataset = tf.data.Dataset.from_tensor_slices( \n",
        "    (train_images, train_labels)\n",
        ")\n",
        "training_dataset = training_dataset.batch(32) \n",
        "\n",
        "epochs = 3 \n",
        "for epoch in range(epochs): \n",
        "  reset_metrics() \n",
        "  for inputs_batch, targets_batch in training_dataset: \n",
        "    logs = train_step(inputs_batch, targets_batch) \n",
        "  print(f\"Results at the end of epoch {epoch}\")\n",
        "  for key, value in logs.items(): \n",
        "    print(f\"... {key}: {value:.4f}\") "
      ],
      "metadata": {
        "colab": {
          "base_uri": "https://localhost:8080/"
        },
        "id": "Qd6jP9823nwA",
        "outputId": "c0d9d15c-1ba1-4d16-e9ec-eceeb41bb990"
      },
      "execution_count": 17,
      "outputs": [
        {
          "output_type": "stream",
          "name": "stdout",
          "text": [
            "Results at the end of epoch 0\n",
            "... sparse_categorical_accuracy: 0.9143\n",
            "... loss: 0.2916\n",
            "Results at the end of epoch 1\n",
            "... sparse_categorical_accuracy: 0.9543\n",
            "... loss: 0.1662\n",
            "Results at the end of epoch 2\n",
            "... sparse_categorical_accuracy: 0.9624\n",
            "... loss: 0.1404\n"
          ]
        }
      ]
    },
    {
      "cell_type": "code",
      "source": [
        "# Writing a step-by-step evaluation loop: \n",
        "\n",
        "# repeatedly calls a test_step() function, \n",
        "# which processes a single batch of data:\n",
        "\n",
        "def test_step(inputs, targets): \n",
        "  predictions = model(inputs, training=False)  \n",
        "  loss = loss_fn(targets, predictions) \n",
        "\n",
        "  logs = {} \n",
        "  for metric in metrics:  \n",
        "    metric.update_state(targets, predictions) \n",
        "    logs['val_' + metric.name] = metric.result() \n",
        "  loss_tracking_metric.update_state(loss) \n",
        "  logs['val_loss'] = loss_tracking_metric.result() \n",
        "  return logs  \n",
        "\n",
        "val_dataset = tf.data.Dataset.from_tensor_slices((val_images, val_labels)) \n",
        "val_dataset = val_dataset.batch(32)  \n",
        "\n",
        "reset_metrics() \n",
        "\n",
        "for inputs_batch, targets_batch in val_dataset:  \n",
        "  logs = test_step(inputs_batch, targets_batch) \n",
        "\n",
        "print(\"Evaluation results: \") \n",
        "for key, value in logs.items(): \n",
        "  print(f\"...{key}: {value:.4f}\") \n"
      ],
      "metadata": {
        "id": "f5vlTo0F5KKH",
        "colab": {
          "base_uri": "https://localhost:8080/"
        },
        "outputId": "7f066e54-d374-47d4-d98a-2217d54199ea"
      },
      "execution_count": 19,
      "outputs": [
        {
          "output_type": "stream",
          "name": "stdout",
          "text": [
            "Evaluation results: \n",
            "...val_sparse_categorical_accuracy: 0.9681\n",
            "...val_loss: 0.1270\n"
          ]
        }
      ]
    },
    {
      "cell_type": "code",
      "source": [],
      "metadata": {
        "id": "1s6TyYi3ETng"
      },
      "execution_count": null,
      "outputs": []
    }
  ]
}