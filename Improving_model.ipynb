{
  "nbformat": 4,
  "nbformat_minor": 0,
  "metadata": {
    "colab": {
      "provenance": [],
      "collapsed_sections": [],
      "authorship_tag": "ABX9TyOfHv/z7mDXS2BhkZ7npIsF",
      "include_colab_link": true
    },
    "kernelspec": {
      "name": "python3",
      "display_name": "Python 3"
    },
    "language_info": {
      "name": "python"
    }
  },
  "cells": [
    {
      "cell_type": "markdown",
      "metadata": {
        "id": "view-in-github",
        "colab_type": "text"
      },
      "source": [
        "<a href=\"https://colab.research.google.com/github/Bohdan-at-Kulinich/Machine-Learning/blob/main/Improving_model.ipynb\" target=\"_parent\"><img src=\"https://colab.research.google.com/assets/colab-badge.svg\" alt=\"Open In Colab\"/></a>"
      ]
    },
    {
      "cell_type": "markdown",
      "source": [
        "### Tuning key gradient descent parameters"
      ],
      "metadata": {
        "id": "TYfu-UHa619A"
      }
    },
    {
      "cell_type": "code",
      "source": [
        "# Training MNIST model with an incorrectly high learning rate:\n",
        "\n",
        "from tensorflow.keras.datasets import mnist \n",
        "from tensorflow import keras \n",
        "from tensorflow.keras import layers\n",
        "\n",
        "(train_images, train_labels), _ = mnist.load_data()\n",
        "train_images = train_images.reshape((60000, 28*28))\n",
        "train_images = train_images.astype(\"float32\") / 255 \n",
        "\n",
        "model = keras.Sequential([\n",
        "    layers.Dense(512, activation='relu'),\n",
        "    layers.Dense(10, activation='softmax')\n",
        "])\n",
        "model.compile(optimizer=keras.optimizers.RMSprop(1.), \n",
        "              loss='sparse_categorical_crossentropy',\n",
        "              metrics=['accuracy'])\n",
        "\n",
        "model.fit(train_images, train_labels,\n",
        "          epochs=10,\n",
        "          batch_size=128, \n",
        "          validation_split=0.2)\n",
        "\n",
        "\n",
        "# The model quickly reaches a training and validation accuracy in the 30% range, \n",
        "# and do not go beyond that"
      ],
      "metadata": {
        "id": "_cRZBBMt67m3"
      },
      "execution_count": null,
      "outputs": []
    },
    {
      "cell_type": "code",
      "source": [
        "# The same model with a more appropriate learning rate:\n",
        "\n",
        "from tensorflow.keras.datasets import mnist \n",
        "from tensorflow import keras \n",
        "from tensorflow.keras import layers\n",
        "\n",
        "(train_images, train_labels), _ = mnist.load_data()\n",
        "train_images = train_images.reshape((60000, 28*28))\n",
        "train_images = train_images.astype(\"float32\") / 255 \n",
        "\n",
        "model = keras.Sequential([\n",
        "    layers.Dense(512, activation='relu'),\n",
        "    layers.Dense(10, activation='softmax')\n",
        "])\n",
        "model.compile(optimizer=keras.optimizers.RMSprop(1e-2),\n",
        "              loss='sparse_categorical_crossentropy',\n",
        "              metrics=['accuracy'])\n",
        "model.fit(train_images, train_labels,\n",
        "          epochs=10, \n",
        "          batch_size=128, \n",
        "          validation_split=0.2\n",
        "          )\n",
        "\n",
        "# Too high learning rate may lead to updates that overshoot a proper fit, \n",
        "# leading to the stalled validation accuracy.\n",
        "# Too low learning rate may make the trainig proccess too slow.\n",
        "\n",
        "# A batch size with more examples will lead to gradients that are more informative \n",
        "# and less noisy leading to the lower variance \n"
      ],
      "metadata": {
        "id": "O98DlAjF8S-R"
      },
      "execution_count": null,
      "outputs": []
    },
    {
      "cell_type": "markdown",
      "source": [
        "### Increasing the model capacity"
      ],
      "metadata": {
        "id": "V5qvHtnb364R"
      }
    },
    {
      "cell_type": "code",
      "source": [
        "# Simple logistic regression trained on MNIST pixels:\n",
        "\n",
        "model = keras.Sequential([\n",
        "    layers.Dense(10, activation='softmax')\n",
        "])\n",
        "model.compile(optimizer='rmsprop',\n",
        "              loss='sparse_categorical_crossentropy',\n",
        "              metrics=['accuracy'])\n",
        "history_small_model = model.fit(\n",
        "    train_images, train_labels,\n",
        "    epochs=20, \n",
        "    batch_size=128,\n",
        "    validation_split=0.2\n",
        ")\n"
      ],
      "metadata": {
        "id": "cczvukFn393x"
      },
      "execution_count": null,
      "outputs": []
    },
    {
      "cell_type": "code",
      "source": [
        "# Loss curve:\n",
        "\n",
        "import matplotlib.pyplot as plt \n",
        "\n",
        "val_los = history_small_model.history['val_loss']\n",
        "epochs = range(1, 21)\n",
        "plt.plot(epochs, val_los, \"b--\", label=\"Validation loss\")\n",
        "plt.title(\"Effect of insufficient model capacity on validation loss\")\n",
        "plt.xlabel(\"Epochs\")\n",
        "plt.ylabel(\"Loss\")\n",
        "plt.legend()\n",
        "\n",
        "# The validation loss goes to 0.26 and then just stays there. \n",
        "# We can fit but can't overfit, even after many iterations over the training data. \n",
        "# But it should always be possible to overfit! \n",
        "# The problem is most likely with the representation power of the model:\n",
        "# we need a bigger model with more capacity able to store more information. "
      ],
      "metadata": {
        "colab": {
          "base_uri": "https://localhost:8080/",
          "height": 312
        },
        "id": "t0EgkD6F402e",
        "outputId": "7ba7bdeb-9d31-43a3-c8b4-d87f229774cf"
      },
      "execution_count": null,
      "outputs": [
        {
          "output_type": "execute_result",
          "data": {
            "text/plain": [
              "<matplotlib.legend.Legend at 0x7f6966d25950>"
            ]
          },
          "metadata": {},
          "execution_count": 5
        },
        {
          "output_type": "display_data",
          "data": {
            "text/plain": [
              "<Figure size 432x288 with 1 Axes>"
            ],
            "image/png": "[encoded data removed]"
          },
          "metadata": {
            "needs_background": "light"
          }
        }
      ]
    },
    {
      "cell_type": "code",
      "source": [
        "# We can increase representation power by adding more layers, \n",
        "# using bigger layers (with more parameters), \n",
        "# or using more appropriate layers (better architecture priors)\n",
        "\n",
        "# Train a bigger model with two intermediate layers with 96 units each:\n",
        "\n",
        "model = keras.Sequential([\n",
        "    layers.Dense(96, activation='relu'),\n",
        "    layers.Dense(96, activation='relu'),\n",
        "    layers.Dense(10, activation='softmax')\n",
        "])\n",
        "model.compile(optimizer='rmsprop', \n",
        "              loss='sparse_categorical_crossentropy',\n",
        "              metrics=['accuracy'])\n",
        "history_large_model = model.fit(\n",
        "    train_images, train_labels, \n",
        "    epochs=20, \n",
        "    batch_size=128, \n",
        "    validation_split=0.2\n",
        ")"
      ],
      "metadata": {
        "id": "xnq5_pxz5wLS"
      },
      "execution_count": null,
      "outputs": []
    },
    {
      "cell_type": "code",
      "source": [
        "# Validation loss for a model with appropriate capaciy:\n",
        "\n",
        "val_loss = history_large_model.history['val_loss']\n",
        "epochs = range(1, 21)\n",
        "plt.plot(epochs, val_loss, \"b--\", label=\"Validation loss\")\n",
        "plt.title(\"Validation loss for a model with appropriate capacity\")\n",
        "plt.xlabel(\"Epochs\")\n",
        "plt.ylabel(\"Loss\")\n",
        "plt.legend()\n",
        "\n",
        "# The model fits fast and starts overfitting after 6 epochs. "
      ],
      "metadata": {
        "colab": {
          "base_uri": "https://localhost:8080/",
          "height": 312
        },
        "id": "20-3eyEp8Cjn",
        "outputId": "3e89f731-d1ff-46d7-8a48-b7e29905df49"
      },
      "execution_count": 7,
      "outputs": [
        {
          "output_type": "execute_result",
          "data": {
            "text/plain": [
              "<matplotlib.legend.Legend at 0x7f696820b610>"
            ]
          },
          "metadata": {},
          "execution_count": 7
        },
        {
          "output_type": "display_data",
          "data": {
            "text/plain": [
              "<Figure size 432x288 with 1 Axes>"
            ],
            "image/png": "[encoded data removed]"
          },
          "metadata": {
            "needs_background": "light"
          }
        }
      ]
    },
    {
      "cell_type": "code",
      "source": [],
      "metadata": {
        "id": "_iu0SiIo84Lx"
      },
      "execution_count": null,
      "outputs": []
    }
  ]
}