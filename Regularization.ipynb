{
  "nbformat": 4,
  "nbformat_minor": 0,
  "metadata": {
    "colab": {
      "provenance": [],
      "authorship_tag": "ABX9TyMSvQ3RhcVwKwgr+DlZzZwv",
      "include_colab_link": true
    },
    "kernelspec": {
      "name": "python3",
      "display_name": "Python 3"
    },
    "language_info": {
      "name": "python"
    }
  },
  "cells": [
    {
      "cell_type": "markdown",
      "metadata": {
        "id": "view-in-github",
        "colab_type": "text"
      },
      "source": [
        "<a href=\"https://colab.research.google.com/github/Bohdan-at-Kulinich/Machine-Learning/blob/main/Regularization.ipynb\" target=\"_parent\"><img src=\"https://colab.research.google.com/assets/colab-badge.svg\" alt=\"Open In Colab\"/></a>"
      ]
    },
    {
      "cell_type": "markdown",
      "source": [
        "### Reducing the network's size"
      ],
      "metadata": {
        "id": "PI-PidFHKEkZ"
      }
    },
    {
      "cell_type": "code",
      "source": [
        "# Original movie-review classification model: \n",
        "\n",
        "from tensorflow.keras.datasets import imdb \n",
        "from tensorflow import keras \n",
        "from tensorflow.keras import layers \n",
        "import numpy as np\n",
        "\n",
        "(train_data, train_labels), _ = imdb.load_data(num_words=10000)\n",
        "\n",
        "def vectorize_sequence(sequences, dimension=10000):\n",
        "  results = np.zeros((len(sequences), dimension))\n",
        "  for i, sequence in enumerate(sequences):\n",
        "    results[i, sequence] = 1. \n",
        "  return results \n",
        "\n",
        "train_data = vectorize_sequence(train_data)\n",
        "\n",
        "model = keras.Sequential ([\n",
        "    layers.Dense(16, activation='relu'),\n",
        "    layers.Dense(16, activation='relu'),\n",
        "    layers.Dense(1, activation='sigmoid')\n",
        "])\n",
        "\n",
        "model.compile(optimizer='rmsprop',\n",
        "              loss='binary_crossentropy',\n",
        "              metrics=['accuracy'])\n",
        "\n",
        "history_original = model.fit(train_data, train_labels,\n",
        "                            epochs=20, batch_size=512, \n",
        "                             validation_split=0.4)\n",
        "\n",
        "\n"
      ],
      "metadata": {
        "id": "1oKEOZwpKH-n"
      },
      "execution_count": null,
      "outputs": []
    },
    {
      "cell_type": "code",
      "source": [],
      "metadata": {
        "id": "XiqWuu5CMbQq"
      },
      "execution_count": null,
      "outputs": []
    }
  ]
}