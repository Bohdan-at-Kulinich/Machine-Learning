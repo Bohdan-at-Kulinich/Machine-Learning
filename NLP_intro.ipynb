{
  "nbformat": 4,
  "nbformat_minor": 0,
  "metadata": {
    "colab": {
      "provenance": [],
      "authorship_tag": "ABX9TyM0XSJ+Orswxwld2GVPflpz",
      "include_colab_link": true
    },
    "kernelspec": {
      "name": "python3",
      "display_name": "Python 3"
    },
    "language_info": {
      "name": "python"
    }
  },
  "cells": [
    {
      "cell_type": "markdown",
      "metadata": {
        "id": "view-in-github",
        "colab_type": "text"
      },
      "source": [
        "<a href=\"https://colab.research.google.com/github/Bohdan-at-Kulinich/Machine-Learning/blob/main/NLP_intro.ipynb\" target=\"_parent\"><img src=\"https://colab.research.google.com/assets/colab-badge.svg\" alt=\"Open In Colab\"/></a>"
      ]
    },
    {
      "cell_type": "code",
      "execution_count": 2,
      "metadata": {
        "id": "HR0Mydq-aUwq"
      },
      "outputs": [],
      "source": [
        "import tensorflow as tf\n",
        "from tensorflow import keras\n",
        "from tensorflow.keras.preprocessing.text import Tokenizer \n",
        "from tensorflow.keras.preprocessing.sequence import pad_sequences "
      ]
    },
    {
      "cell_type": "code",
      "source": [
        "sentences = [\n",
        "'Today is a sunny day',\n",
        "'Today is a rainy day',\n",
        "'Is it sunny today?',\n",
        "'I really enjoyed walking in the snow today'\n",
        "] "
      ],
      "metadata": {
        "id": "Lq0X6mcXbNZw"
      },
      "execution_count": 3,
      "outputs": []
    },
    {
      "cell_type": "code",
      "source": [
        "tokenizer = Tokenizer(num_words=100, oov_token=\"<OOV>\")\n",
        "tokenizer.fit_on_texts(sentences)\n",
        "word_index = tokenizer.word_index\n",
        "\n",
        "sequences = tokenizer.texts_to_sequences(sentences) \n",
        "\n",
        "padded = pad_sequences(sequences, padding='post', maxlen=6, truncating='post') \n",
        "print(padded) "
      ],
      "metadata": {
        "colab": {
          "base_uri": "https://localhost:8080/"
        },
        "id": "71J_sEB7boF9",
        "outputId": "06c72ebe-296f-4dd1-f22b-246f8b69ade3"
      },
      "execution_count": 4,
      "outputs": [
        {
          "output_type": "stream",
          "name": "stdout",
          "text": [
            "[[ 2  3  4  5  6  0]\n",
            " [ 2  3  4  7  6  0]\n",
            " [ 3  8  5  2  0  0]\n",
            " [ 9 10 11 12 13 14]]\n"
          ]
        }
      ]
    },
    {
      "cell_type": "code",
      "source": [
        "test_data = [\n",
        "'Today is a snowy day',\n",
        "'Will it be rainy tomorrow?'\n",
        "]\n",
        "\n",
        "test_sequences = tokenizer.texts_to_sequences(test_data)\n",
        "print(word_index)\n",
        "print(test_sequences) "
      ],
      "metadata": {
        "colab": {
          "base_uri": "https://localhost:8080/"
        },
        "id": "VVr-WDMlddZO",
        "outputId": "8800191e-6500-4635-e808-15882a8db09c"
      },
      "execution_count": 5,
      "outputs": [
        {
          "output_type": "stream",
          "name": "stdout",
          "text": [
            "{'<OOV>': 1, 'today': 2, 'is': 3, 'a': 4, 'sunny': 5, 'day': 6, 'rainy': 7, 'it': 8, 'i': 9, 'really': 10, 'enjoyed': 11, 'walking': 12, 'in': 13, 'the': 14, 'snow': 15}\n",
            "[[2, 3, 4, 1, 6], [1, 8, 1, 7, 1]]\n"
          ]
        }
      ]
    },
    {
      "cell_type": "code",
      "source": [],
      "metadata": {
        "id": "mMPFB7JfeVJx"
      },
      "execution_count": null,
      "outputs": []
    }
  ]
}