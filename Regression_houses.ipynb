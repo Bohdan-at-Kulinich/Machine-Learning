{
  "nbformat": 4,
  "nbformat_minor": 0,
  "metadata": {
    "colab": {
      "provenance": [],
      "authorship_tag": "ABX9TyOn8QUlrKnvTXUL0dFrdE/2",
      "include_colab_link": true
    },
    "kernelspec": {
      "name": "python3",
      "display_name": "Python 3"
    },
    "language_info": {
      "name": "python"
    }
  },
  "cells": [
    {
      "cell_type": "markdown",
      "metadata": {
        "id": "view-in-github",
        "colab_type": "text"
      },
      "source": [
        "<a href=\"https://colab.research.google.com/github/Bohdan-at-Kulinich/Machine-Learning/blob/main/Regression_houses.ipynb\" target=\"_parent\"><img src=\"https://colab.research.google.com/assets/colab-badge.svg\" alt=\"Open In Colab\"/></a>"
      ]
    },
    {
      "cell_type": "code",
      "execution_count": 1,
      "metadata": {
        "id": "FsSJpQz91C2C"
      },
      "outputs": [],
      "source": [
        "# Regression: prediction of a continous value instead of a discrete label. \n",
        "# Example: Boston housing price dataset. \n",
        "# It has relatively few data points: 506 split as 404 training samples and 102 test samples.\n",
        "# Each feature has a different scale. "
      ]
    },
    {
      "cell_type": "code",
      "source": [
        "# Loadin the Boston housing dataset:\n",
        "\n",
        "from tensorflow.keras.datasets import boston_housing \n",
        "\n",
        "(train_data, train_targets), (test_data, test_targets) = (boston_housing.load_data())"
      ],
      "metadata": {
        "id": "W_kCiJkL13n-"
      },
      "execution_count": 6,
      "outputs": []
    },
    {
      "cell_type": "code",
      "source": [
        "# the shape of the data:\n",
        "\n",
        "train_data.shape"
      ],
      "metadata": {
        "colab": {
          "base_uri": "https://localhost:8080/"
        },
        "id": "UcZsTEng2hlx",
        "outputId": "c63e4999-0d9a-4781-9a53-78f07f27e819"
      },
      "execution_count": 4,
      "outputs": [
        {
          "output_type": "execute_result",
          "data": {
            "text/plain": [
              "(404, 13)"
            ]
          },
          "metadata": {},
          "execution_count": 4
        }
      ]
    },
    {
      "cell_type": "code",
      "source": [
        "test_data.shape\n",
        "\n",
        "# 404 training samples and 102 test samples each with 13 numerical features "
      ],
      "metadata": {
        "colab": {
          "base_uri": "https://localhost:8080/"
        },
        "id": "mFq6xD2s2rb0",
        "outputId": "2e92da21-8043-41a0-b4f8-f91e20b52fde"
      },
      "execution_count": 5,
      "outputs": [
        {
          "output_type": "execute_result",
          "data": {
            "text/plain": [
              "(102, 13)"
            ]
          },
          "metadata": {},
          "execution_count": 5
        }
      ]
    },
    {
      "cell_type": "code",
      "source": [
        "# the targest are the median values of owner-occupied homes (in thousands of $) \n",
        "\n",
        "train_targets [:10]"
      ],
      "metadata": {
        "colab": {
          "base_uri": "https://localhost:8080/"
        },
        "id": "7zhOrd6v2t88",
        "outputId": "82db0ca7-2403-46a2-ec89-758027073e43"
      },
      "execution_count": 8,
      "outputs": [
        {
          "output_type": "execute_result",
          "data": {
            "text/plain": [
              "array([15.2, 42.3, 50. , 21.1, 17.7, 18.5, 11.3, 15.6, 15.6, 14.4])"
            ]
          },
          "metadata": {},
          "execution_count": 8
        }
      ]
    },
    {
      "cell_type": "code",
      "source": [
        "# Preparing the data: \n",
        "\n",
        "# to deal with the different range of the feature scales the best practices is \n",
        "# feature normalization: for each feature in the input data (column),\n",
        "# we subtract the mean of the feature and divide by the standard deviation;\n",
        "# the feature becomes centered around 0 and has a unit standard deviation:\n",
        "\n",
        "mean = train_data.mean(axis=0)\n",
        "train_data -= mean \n",
        "\n",
        "std = train_data.std(axis=0)\n",
        "train_data /= std \n",
        "\n",
        "test_data -= mean \n",
        "test_data /= std \n",
        "\n",
        "# the quantities used for normalizing the test data are computed using only the training data \n",
        "# ! never use any quantity computed on the test data in the workflow "
      ],
      "metadata": {
        "id": "TCx_Btt83RQf"
      },
      "execution_count": 9,
      "outputs": []
    },
    {
      "cell_type": "code",
      "source": [
        "# Building the model: \n",
        "# since only few samples are available, we use a very small model with two intermediate layers, each with 64 units. \n",
        "\n",
        "from tensorflow import keras \n",
        "from tensorflow.keras import layers \n",
        "\n",
        "def build_model():\n",
        "  model = keras.Sequential([\n",
        "      layers.Dense(64, activation='relu'),\n",
        "      layers.Dense(64, activation='relu'),\n",
        "      layers.Dense(1)\n",
        "  ])\n",
        "\n",
        "  model.compile(optimizer='rmsprop', loss='mse', metrics=['mae'])\n",
        "\n",
        "  return model \n",
        "\n",
        "# In  general, for scalar regression (predicting a single continous value),\n",
        "# the model ends with a single unit and no activation: a linear layer. \n",
        "# Thus, the model is free to learn to predict values in any range. \n",
        "\n",
        "# Loss function: mse = mean squared error: the square of the difference between the predictions and the targets.\n",
        "# usually used for regression problems \n",
        "\n",
        "# Metric: mae = mean absolute error: absolute value of the difference between the predictions and the targets."
      ],
      "metadata": {
        "id": "Nun9pkiB6zx0"
      },
      "execution_count": 12,
      "outputs": []
    },
    {
      "cell_type": "code",
      "source": [
        "# Validation using K-fold cross-validation:\n",
        "# split the available data into K partitions (4 or 5),\n",
        "# instantiate K identical model,\n",
        "# train each model on K-1 partitions and evaluate on the ramaining partition.\n",
        "# The validation score is the average of the K validation scores obtained. \n",
        "\n",
        "import numpy as np \n",
        "\n",
        "k = 4 \n",
        "num_val_samples = len(train_data) // k \n",
        "num_epochs = 100 \n",
        "all_scores = [] \n",
        "\n",
        "for i in range(k):\n",
        "  print(f\"Processing fold # {i}\")\n",
        "  \n",
        "  # data from partition # k\n",
        "  val_data = train_data[i * num_val_samples: (i + 1) * num_val_samples] \n",
        "  val_targets = train_targets[i * num_val_samples: (i + 1) * num_val_samples] \n",
        "\n",
        "  # data from all other partitions\n",
        "  partial_train_data = np.concatenate( \n",
        "      [train_data[:i * num_val_samples],\n",
        "       train_data[(i + 1) * num_val_samples:]],\n",
        "       axis=0\n",
        "  )\n",
        "  partial_train_targets = np.concatenate( \n",
        "      [train_targets[:i * num_val_samples],\n",
        "       train_targets[(i + 1) * num_val_samples:]],\n",
        "       axis=0\n",
        "  )\n",
        "\n",
        "  # build and train the model in silent mode: verbose=0\n",
        "  model = build_model()\n",
        "  model.fit(partial_train_data, partial_train_targets,\n",
        "            epochs=num_epochs, batch_size=16, verbose=0) \n",
        "  \n",
        "  # evaluate the model on the validation data\n",
        "  val_mse, val_mae = model.evaluate(val_data, val_targets, verbose=0)\n",
        "  all_scores.append(val_mae)\n"
      ],
      "metadata": {
        "colab": {
          "base_uri": "https://localhost:8080/"
        },
        "id": "_IisKRKd-Knx",
        "outputId": "8abedde1-16cc-4037-8d5a-40581eef4445"
      },
      "execution_count": 14,
      "outputs": [
        {
          "output_type": "stream",
          "name": "stdout",
          "text": [
            "Processing fold # 0\n",
            "Processing fold # 1\n",
            "Processing fold # 2\n",
            "Processing fold # 3\n"
          ]
        }
      ]
    },
    {
      "cell_type": "code",
      "source": [
        "all_scores\n",
        "np.mean(all_scores)"
      ],
      "metadata": {
        "colab": {
          "base_uri": "https://localhost:8080/"
        },
        "id": "U18p0h0FDQXH",
        "outputId": "678de173-e3fe-4943-d115-a9aeb6f8160a"
      },
      "execution_count": 16,
      "outputs": [
        {
          "output_type": "execute_result",
          "data": {
            "text/plain": [
              "2.3315610885620117"
            ]
          },
          "metadata": {},
          "execution_count": 16
        }
      ]
    },
    {
      "cell_type": "code",
      "source": [
        "# Saving the validation logs at each fold: \n",
        "k = 4\n",
        "num_val_samples = len(train_data) // k \n",
        "num_epochs = 500 \n",
        "all_scores = []\n",
        "all_mae_histories = [] \n",
        "\n",
        "for i in range(k):\n",
        "  print(f\"Processing forl #{i}\")\n",
        "\n",
        "  val_data = train_data[i * num_val_samples: (i + 1) * num_val_samples] \n",
        "  val_targets = train_targets[i * num_val_samples: (i + 1) * num_val_samples]\n",
        "\n",
        "  partial_train_data = np.concatenate( \n",
        "      [train_data[: i * num_val_samples], \n",
        "       train_data[(i + 1) * num_val_samples:]],\n",
        "       axis=0\n",
        "  )\n",
        "  partial_train_targets = np.concatenate(\n",
        "      [train_targets[:i * num_val_samples],\n",
        "       train_targets[(i + 1) * num_val_samples:]],\n",
        "       axis=0\n",
        "  )\n",
        "\n",
        "  model = build_model()\n",
        "  history = model.fit (partial_train_data, partial_train_targets, \n",
        "                       validation_data=(val_data, val_targets),\n",
        "                       epochs=num_epochs, batch_size=16, verbose=0)\n",
        "  \n",
        "  mae_history = history.history['val_mae']\n",
        "  all_mae_histories.append(mae_history) \n"
      ],
      "metadata": {
        "colab": {
          "base_uri": "https://localhost:8080/"
        },
        "id": "BF_QT54ZEebQ",
        "outputId": "c54ee449-fccd-4537-dd36-c155d2127edb"
      },
      "execution_count": 17,
      "outputs": [
        {
          "output_type": "stream",
          "name": "stdout",
          "text": [
            "Processing forl #0\n",
            "Processing forl #1\n",
            "Processing forl #2\n",
            "Processing forl #3\n"
          ]
        }
      ]
    },
    {
      "cell_type": "code",
      "source": [
        "# building the history of successive mean K-fold validation scores:\n",
        "\n",
        "average_mae_history = [\n",
        "    np.mean([x[i] for x in all_mae_histories]) for i in range(num_epochs) \n",
        "]"
      ],
      "metadata": {
        "id": "WmwC8_t3Jo8g"
      },
      "execution_count": 19,
      "outputs": []
    },
    {
      "cell_type": "code",
      "source": [],
      "metadata": {
        "id": "hcYTrVuiKb9-"
      },
      "execution_count": null,
      "outputs": []
    }
  ]
}